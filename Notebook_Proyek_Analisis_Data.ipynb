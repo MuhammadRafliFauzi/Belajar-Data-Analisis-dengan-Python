{
  "cells": [
    {
      "cell_type": "markdown",
      "metadata": {
        "id": "H9wADwK78DCz"
      },
      "source": [
        "# Proyek Analisis Data: Bike Sharing Dataset\n",
        "- **Nama:** Muhammad Rafli Fauzi\n",
        "- **Email:** raplifauji@gmail.com\n",
      ]
    },
    {
      "cell_type": "markdown",
      "metadata": {
        "id": "eE0raob58DC0"
      },
      "source": [
        "## Menentukan Pertanyaan Bisnis"
      ]
    },
    {
      "cell_type": "markdown",
      "metadata": {
        "id": "GmQeQ5YF8DC0"
      },
      "source": [
        "- Bagaimana kondisi cuaca semisal suhu, kelembapan dan kecepatan angin dapat memengaruhi penyewaan sepeda?\n",
        "- Bagaimana tren penyewaan sepeda di berbagai musim?\n",
        "- Bagaimana intensitas penyewaan sepeda dari Hari Senin hingga Hari Minggu?"
      ]
    },
    {
      "cell_type": "markdown",
      "metadata": {
        "id": "H-z4QGlO8DC1"
      },
      "source": [
        "## Import Semua Packages/Library yang Digunakan"
      ]
    },
    {
      "cell_type": "code",
      "execution_count": 24,
      "metadata": {
        "id": "FVYwaObI8DC1"
      },
      "outputs": [],
      "source": [
        "import pandas as pd\n",
        "import matplotlib.pyplot as plt\n",
        "import seaborn as sns"
      ]
    },
    {
      "cell_type": "markdown",
      "metadata": {
        "id": "h_Sh51Xy8DC1"
      },
      "source": [
        "## Data Wrangling"
      ]
    },
    {
      "cell_type": "markdown",
      "metadata": {
        "id": "sXU2GBYu8DC1"
      },
      "source": [
        "### Gathering Data"
      ]
    },
    {
      "cell_type": "code",
      "source": [
        "from google.colab import drive\n",
        "drive.mount('/content/drive')"
      ],
      "metadata": {
        "colab": {
          "base_uri": "https://localhost:8080/"
        },
        "id": "EYPHvoAgqQPA",
        "outputId": "8d162e6a-9d54-4e3f-b7e8-e2d6c0a29175"
      },
      "execution_count": 25,
      "outputs": [
        {
          "output_type": "stream",
          "name": "stdout",
          "text": [
            "Drive already mounted at /content/drive; to attempt to forcibly remount, call drive.mount(\"/content/drive\", force_remount=True).\n"
          ]
        }
      ]
    },
    {
      "cell_type": "markdown",
      "source": [
        "**day_df**"
      ],
      "metadata": {
        "id": "3R26lQ0VqizY"
      }
    },
    {
      "cell_type": "code",
      "execution_count": 26,
      "metadata": {
        "id": "zjCBk1BI8DC1",
        "colab": {
          "base_uri": "https://localhost:8080/",
          "height": 206
        },
        "outputId": "e0b14de2-9398-4803-f3bc-9598ba86a391"
      },
      "outputs": [
        {
          "output_type": "display_data",
          "data": {
            "text/plain": [
              "   instant      dteday  season  yr  mnth  holiday  weekday  workingday  \\\n",
              "0        1  2011-01-01       1   0     1        0        6           0   \n",
              "1        2  2011-01-02       1   0     1        0        0           0   \n",
              "2        3  2011-01-03       1   0     1        0        1           1   \n",
              "3        4  2011-01-04       1   0     1        0        2           1   \n",
              "4        5  2011-01-05       1   0     1        0        3           1   \n",
              "\n",
              "   weathersit      temp     atemp       hum  windspeed  casual  registered  \\\n",
              "0           2  0.344167  0.363625  0.805833   0.160446     331         654   \n",
              "1           2  0.363478  0.353739  0.696087   0.248539     131         670   \n",
              "2           1  0.196364  0.189405  0.437273   0.248309     120        1229   \n",
              "3           1  0.200000  0.212122  0.590435   0.160296     108        1454   \n",
              "4           1  0.226957  0.229270  0.436957   0.186900      82        1518   \n",
              "\n",
              "    cnt  \n",
              "0   985  \n",
              "1   801  \n",
              "2  1349  \n",
              "3  1562  \n",
              "4  1600  "
            ],
            "text/html": [
              "\n",
              "  <div id=\"df-f87fa103-9777-4354-8275-6c9a7564909d\" class=\"colab-df-container\">\n",
              "    <div>\n",
              "<style scoped>\n",
              "    .dataframe tbody tr th:only-of-type {\n",
              "        vertical-align: middle;\n",
              "    }\n",
              "\n",
              "    .dataframe tbody tr th {\n",
              "        vertical-align: top;\n",
              "    }\n",
              "\n",
              "    .dataframe thead th {\n",
              "        text-align: right;\n",
              "    }\n",
              "</style>\n",
              "<table border=\"1\" class=\"dataframe\">\n",
              "  <thead>\n",
              "    <tr style=\"text-align: right;\">\n",
              "      <th></th>\n",
              "      <th>instant</th>\n",
              "      <th>dteday</th>\n",
              "      <th>season</th>\n",
              "      <th>yr</th>\n",
              "      <th>mnth</th>\n",
              "      <th>holiday</th>\n",
              "      <th>weekday</th>\n",
              "      <th>workingday</th>\n",
              "      <th>weathersit</th>\n",
              "      <th>temp</th>\n",
              "      <th>atemp</th>\n",
              "      <th>hum</th>\n",
              "      <th>windspeed</th>\n",
              "      <th>casual</th>\n",
              "      <th>registered</th>\n",
              "      <th>cnt</th>\n",
              "    </tr>\n",
              "  </thead>\n",
              "  <tbody>\n",
              "    <tr>\n",
              "      <th>0</th>\n",
              "      <td>1</td>\n",
              "      <td>2011-01-01</td>\n",
              "      <td>1</td>\n",
              "      <td>0</td>\n",
              "      <td>1</td>\n",
              "      <td>0</td>\n",
              "      <td>6</td>\n",
              "      <td>0</td>\n",
              "      <td>2</td>\n",
              "      <td>0.344167</td>\n",
              "      <td>0.363625</td>\n",
              "      <td>0.805833</td>\n",
              "      <td>0.160446</td>\n",
              "      <td>331</td>\n",
              "      <td>654</td>\n",
              "      <td>985</td>\n",
              "    </tr>\n",
              "    <tr>\n",
              "      <th>1</th>\n",
              "      <td>2</td>\n",
              "      <td>2011-01-02</td>\n",
              "      <td>1</td>\n",
              "      <td>0</td>\n",
              "      <td>1</td>\n",
              "      <td>0</td>\n",
              "      <td>0</td>\n",
              "      <td>0</td>\n",
              "      <td>2</td>\n",
              "      <td>0.363478</td>\n",
              "      <td>0.353739</td>\n",
              "      <td>0.696087</td>\n",
              "      <td>0.248539</td>\n",
              "      <td>131</td>\n",
              "      <td>670</td>\n",
              "      <td>801</td>\n",
              "    </tr>\n",
              "    <tr>\n",
              "      <th>2</th>\n",
              "      <td>3</td>\n",
              "      <td>2011-01-03</td>\n",
              "      <td>1</td>\n",
              "      <td>0</td>\n",
              "      <td>1</td>\n",
              "      <td>0</td>\n",
              "      <td>1</td>\n",
              "      <td>1</td>\n",
              "      <td>1</td>\n",
              "      <td>0.196364</td>\n",
              "      <td>0.189405</td>\n",
              "      <td>0.437273</td>\n",
              "      <td>0.248309</td>\n",
              "      <td>120</td>\n",
              "      <td>1229</td>\n",
              "      <td>1349</td>\n",
              "    </tr>\n",
              "    <tr>\n",
              "      <th>3</th>\n",
              "      <td>4</td>\n",
              "      <td>2011-01-04</td>\n",
              "      <td>1</td>\n",
              "      <td>0</td>\n",
              "      <td>1</td>\n",
              "      <td>0</td>\n",
              "      <td>2</td>\n",
              "      <td>1</td>\n",
              "      <td>1</td>\n",
              "      <td>0.200000</td>\n",
              "      <td>0.212122</td>\n",
              "      <td>0.590435</td>\n",
              "      <td>0.160296</td>\n",
              "      <td>108</td>\n",
              "      <td>1454</td>\n",
              "      <td>1562</td>\n",
              "    </tr>\n",
              "    <tr>\n",
              "      <th>4</th>\n",
              "      <td>5</td>\n",
              "      <td>2011-01-05</td>\n",
              "      <td>1</td>\n",
              "      <td>0</td>\n",
              "      <td>1</td>\n",
              "      <td>0</td>\n",
              "      <td>3</td>\n",
              "      <td>1</td>\n",
              "      <td>1</td>\n",
              "      <td>0.226957</td>\n",
              "      <td>0.229270</td>\n",
              "      <td>0.436957</td>\n",
              "      <td>0.186900</td>\n",
              "      <td>82</td>\n",
              "      <td>1518</td>\n",
              "      <td>1600</td>\n",
              "    </tr>\n",
              "  </tbody>\n",
              "</table>\n",
              "</div>\n",
              "    <div class=\"colab-df-buttons\">\n",
              "\n",
              "  <div class=\"colab-df-container\">\n",
              "    <button class=\"colab-df-convert\" onclick=\"convertToInteractive('df-f87fa103-9777-4354-8275-6c9a7564909d')\"\n",
              "            title=\"Convert this dataframe to an interactive table.\"\n",
              "            style=\"display:none;\">\n",
              "\n",
              "  <svg xmlns=\"http://www.w3.org/2000/svg\" height=\"24px\" viewBox=\"0 -960 960 960\">\n",
              "    <path d=\"M120-120v-720h720v720H120Zm60-500h600v-160H180v160Zm220 220h160v-160H400v160Zm0 220h160v-160H400v160ZM180-400h160v-160H180v160Zm440 0h160v-160H620v160ZM180-180h160v-160H180v160Zm440 0h160v-160H620v160Z\"/>\n",
              "  </svg>\n",
              "    </button>\n",
              "\n",
              "  <style>\n",
              "    .colab-df-container {\n",
              "      display:flex;\n",
              "      gap: 12px;\n",
              "    }\n",
              "\n",
              "    .colab-df-convert {\n",
              "      background-color: #E8F0FE;\n",
              "      border: none;\n",
              "      border-radius: 50%;\n",
              "      cursor: pointer;\n",
              "      display: none;\n",
              "      fill: #1967D2;\n",
              "      height: 32px;\n",
              "      padding: 0 0 0 0;\n",
              "      width: 32px;\n",
              "    }\n",
              "\n",
              "    .colab-df-convert:hover {\n",
              "      background-color: #E2EBFA;\n",
              "      box-shadow: 0px 1px 2px rgba(60, 64, 67, 0.3), 0px 1px 3px 1px rgba(60, 64, 67, 0.15);\n",
              "      fill: #174EA6;\n",
              "    }\n",
              "\n",
              "    .colab-df-buttons div {\n",
              "      margin-bottom: 4px;\n",
              "    }\n",
              "\n",
              "    [theme=dark] .colab-df-convert {\n",
              "      background-color: #3B4455;\n",
              "      fill: #D2E3FC;\n",
              "    }\n",
              "\n",
              "    [theme=dark] .colab-df-convert:hover {\n",
              "      background-color: #434B5C;\n",
              "      box-shadow: 0px 1px 3px 1px rgba(0, 0, 0, 0.15);\n",
              "      filter: drop-shadow(0px 1px 2px rgba(0, 0, 0, 0.3));\n",
              "      fill: #FFFFFF;\n",
              "    }\n",
              "  </style>\n",
              "\n",
              "    <script>\n",
              "      const buttonEl =\n",
              "        document.querySelector('#df-f87fa103-9777-4354-8275-6c9a7564909d button.colab-df-convert');\n",
              "      buttonEl.style.display =\n",
              "        google.colab.kernel.accessAllowed ? 'block' : 'none';\n",
              "\n",
              "      async function convertToInteractive(key) {\n",
              "        const element = document.querySelector('#df-f87fa103-9777-4354-8275-6c9a7564909d');\n",
              "        const dataTable =\n",
              "          await google.colab.kernel.invokeFunction('convertToInteractive',\n",
              "                                                    [key], {});\n",
              "        if (!dataTable) return;\n",
              "\n",
              "        const docLinkHtml = 'Like what you see? Visit the ' +\n",
              "          '<a target=\"_blank\" href=https://colab.research.google.com/notebooks/data_table.ipynb>data table notebook</a>'\n",
              "          + ' to learn more about interactive tables.';\n",
              "        element.innerHTML = '';\n",
              "        dataTable['output_type'] = 'display_data';\n",
              "        await google.colab.output.renderOutput(dataTable, element);\n",
              "        const docLink = document.createElement('div');\n",
              "        docLink.innerHTML = docLinkHtml;\n",
              "        element.appendChild(docLink);\n",
              "      }\n",
              "    </script>\n",
              "  </div>\n",
              "\n",
              "\n",
              "<div id=\"df-88f14a80-c504-422a-bfe6-b704184e8611\">\n",
              "  <button class=\"colab-df-quickchart\" onclick=\"quickchart('df-88f14a80-c504-422a-bfe6-b704184e8611')\"\n",
              "            title=\"Suggest charts\"\n",
              "            style=\"display:none;\">\n",
              "\n",
              "<svg xmlns=\"http://www.w3.org/2000/svg\" height=\"24px\"viewBox=\"0 0 24 24\"\n",
              "     width=\"24px\">\n",
              "    <g>\n",
              "        <path d=\"M19 3H5c-1.1 0-2 .9-2 2v14c0 1.1.9 2 2 2h14c1.1 0 2-.9 2-2V5c0-1.1-.9-2-2-2zM9 17H7v-7h2v7zm4 0h-2V7h2v10zm4 0h-2v-4h2v4z\"/>\n",
              "    </g>\n",
              "</svg>\n",
              "  </button>\n",
              "\n",
              "<style>\n",
              "  .colab-df-quickchart {\n",
              "      --bg-color: #E8F0FE;\n",
              "      --fill-color: #1967D2;\n",
              "      --hover-bg-color: #E2EBFA;\n",
              "      --hover-fill-color: #174EA6;\n",
              "      --disabled-fill-color: #AAA;\n",
              "      --disabled-bg-color: #DDD;\n",
              "  }\n",
              "\n",
              "  [theme=dark] .colab-df-quickchart {\n",
              "      --bg-color: #3B4455;\n",
              "      --fill-color: #D2E3FC;\n",
              "      --hover-bg-color: #434B5C;\n",
              "      --hover-fill-color: #FFFFFF;\n",
              "      --disabled-bg-color: #3B4455;\n",
              "      --disabled-fill-color: #666;\n",
              "  }\n",
              "\n",
              "  .colab-df-quickchart {\n",
              "    background-color: var(--bg-color);\n",
              "    border: none;\n",
              "    border-radius: 50%;\n",
              "    cursor: pointer;\n",
              "    display: none;\n",
              "    fill: var(--fill-color);\n",
              "    height: 32px;\n",
              "    padding: 0;\n",
              "    width: 32px;\n",
              "  }\n",
              "\n",
              "  .colab-df-quickchart:hover {\n",
              "    background-color: var(--hover-bg-color);\n",
              "    box-shadow: 0 1px 2px rgba(60, 64, 67, 0.3), 0 1px 3px 1px rgba(60, 64, 67, 0.15);\n",
              "    fill: var(--button-hover-fill-color);\n",
              "  }\n",
              "\n",
              "  .colab-df-quickchart-complete:disabled,\n",
              "  .colab-df-quickchart-complete:disabled:hover {\n",
              "    background-color: var(--disabled-bg-color);\n",
              "    fill: var(--disabled-fill-color);\n",
              "    box-shadow: none;\n",
              "  }\n",
              "\n",
              "  .colab-df-spinner {\n",
              "    border: 2px solid var(--fill-color);\n",
              "    border-color: transparent;\n",
              "    border-bottom-color: var(--fill-color);\n",
              "    animation:\n",
              "      spin 1s steps(1) infinite;\n",
              "  }\n",
              "\n",
              "  @keyframes spin {\n",
              "    0% {\n",
              "      border-color: transparent;\n",
              "      border-bottom-color: var(--fill-color);\n",
              "      border-left-color: var(--fill-color);\n",
              "    }\n",
              "    20% {\n",
              "      border-color: transparent;\n",
              "      border-left-color: var(--fill-color);\n",
              "      border-top-color: var(--fill-color);\n",
              "    }\n",
              "    30% {\n",
              "      border-color: transparent;\n",
              "      border-left-color: var(--fill-color);\n",
              "      border-top-color: var(--fill-color);\n",
              "      border-right-color: var(--fill-color);\n",
              "    }\n",
              "    40% {\n",
              "      border-color: transparent;\n",
              "      border-right-color: var(--fill-color);\n",
              "      border-top-color: var(--fill-color);\n",
              "    }\n",
              "    60% {\n",
              "      border-color: transparent;\n",
              "      border-right-color: var(--fill-color);\n",
              "    }\n",
              "    80% {\n",
              "      border-color: transparent;\n",
              "      border-right-color: var(--fill-color);\n",
              "      border-bottom-color: var(--fill-color);\n",
              "    }\n",
              "    90% {\n",
              "      border-color: transparent;\n",
              "      border-bottom-color: var(--fill-color);\n",
              "    }\n",
              "  }\n",
              "</style>\n",
              "\n",
              "  <script>\n",
              "    async function quickchart(key) {\n",
              "      const quickchartButtonEl =\n",
              "        document.querySelector('#' + key + ' button');\n",
              "      quickchartButtonEl.disabled = true;  // To prevent multiple clicks.\n",
              "      quickchartButtonEl.classList.add('colab-df-spinner');\n",
              "      try {\n",
              "        const charts = await google.colab.kernel.invokeFunction(\n",
              "            'suggestCharts', [key], {});\n",
              "      } catch (error) {\n",
              "        console.error('Error during call to suggestCharts:', error);\n",
              "      }\n",
              "      quickchartButtonEl.classList.remove('colab-df-spinner');\n",
              "      quickchartButtonEl.classList.add('colab-df-quickchart-complete');\n",
              "    }\n",
              "    (() => {\n",
              "      let quickchartButtonEl =\n",
              "        document.querySelector('#df-88f14a80-c504-422a-bfe6-b704184e8611 button');\n",
              "      quickchartButtonEl.style.display =\n",
              "        google.colab.kernel.accessAllowed ? 'block' : 'none';\n",
              "    })();\n",
              "  </script>\n",
              "</div>\n",
              "\n",
              "    </div>\n",
              "  </div>\n"
            ],
            "application/vnd.google.colaboratory.intrinsic+json": {
              "type": "dataframe",
              "summary": "{\n  \"name\": \"display(day_df\",\n  \"rows\": 5,\n  \"fields\": [\n    {\n      \"column\": \"instant\",\n      \"properties\": {\n        \"dtype\": \"number\",\n        \"std\": 1,\n        \"min\": 1,\n        \"max\": 5,\n        \"num_unique_values\": 5,\n        \"samples\": [\n          2,\n          5,\n          3\n        ],\n        \"semantic_type\": \"\",\n        \"description\": \"\"\n      }\n    },\n    {\n      \"column\": \"dteday\",\n      \"properties\": {\n        \"dtype\": \"object\",\n        \"num_unique_values\": 5,\n        \"samples\": [\n          \"2011-01-02\",\n          \"2011-01-05\",\n          \"2011-01-03\"\n        ],\n        \"semantic_type\": \"\",\n        \"description\": \"\"\n      }\n    },\n    {\n      \"column\": \"season\",\n      \"properties\": {\n        \"dtype\": \"number\",\n        \"std\": 0,\n        \"min\": 1,\n        \"max\": 1,\n        \"num_unique_values\": 1,\n        \"samples\": [\n          1\n        ],\n        \"semantic_type\": \"\",\n        \"description\": \"\"\n      }\n    },\n    {\n      \"column\": \"yr\",\n      \"properties\": {\n        \"dtype\": \"number\",\n        \"std\": 0,\n        \"min\": 0,\n        \"max\": 0,\n        \"num_unique_values\": 1,\n        \"samples\": [\n          0\n        ],\n        \"semantic_type\": \"\",\n        \"description\": \"\"\n      }\n    },\n    {\n      \"column\": \"mnth\",\n      \"properties\": {\n        \"dtype\": \"number\",\n        \"std\": 0,\n        \"min\": 1,\n        \"max\": 1,\n        \"num_unique_values\": 1,\n        \"samples\": [\n          1\n        ],\n        \"semantic_type\": \"\",\n        \"description\": \"\"\n      }\n    },\n    {\n      \"column\": \"holiday\",\n      \"properties\": {\n        \"dtype\": \"number\",\n        \"std\": 0,\n        \"min\": 0,\n        \"max\": 0,\n        \"num_unique_values\": 1,\n        \"samples\": [\n          0\n        ],\n        \"semantic_type\": \"\",\n        \"description\": \"\"\n      }\n    },\n    {\n      \"column\": \"weekday\",\n      \"properties\": {\n        \"dtype\": \"number\",\n        \"std\": 2,\n        \"min\": 0,\n        \"max\": 6,\n        \"num_unique_values\": 5,\n        \"samples\": [\n          0\n        ],\n        \"semantic_type\": \"\",\n        \"description\": \"\"\n      }\n    },\n    {\n      \"column\": \"workingday\",\n      \"properties\": {\n        \"dtype\": \"number\",\n        \"std\": 0,\n        \"min\": 0,\n        \"max\": 1,\n        \"num_unique_values\": 2,\n        \"samples\": [\n          1\n        ],\n        \"semantic_type\": \"\",\n        \"description\": \"\"\n      }\n    },\n    {\n      \"column\": \"weathersit\",\n      \"properties\": {\n        \"dtype\": \"number\",\n        \"std\": 0,\n        \"min\": 1,\n        \"max\": 2,\n        \"num_unique_values\": 2,\n        \"samples\": [\n          1\n        ],\n        \"semantic_type\": \"\",\n        \"description\": \"\"\n      }\n    },\n    {\n      \"column\": \"temp\",\n      \"properties\": {\n        \"dtype\": \"number\",\n        \"std\": 0.08115014184645644,\n        \"min\": 0.196364,\n        \"max\": 0.363478,\n        \"num_unique_values\": 5,\n        \"samples\": [\n          0.363478\n        ],\n        \"semantic_type\": \"\",\n        \"description\": \"\"\n      }\n    },\n    {\n      \"column\": \"atemp\",\n      \"properties\": {\n        \"dtype\": \"number\",\n        \"std\": 0.08258561341238557,\n        \"min\": 0.189405,\n        \"max\": 0.363625,\n        \"num_unique_values\": 5,\n        \"samples\": [\n          0.353739\n        ],\n        \"semantic_type\": \"\",\n        \"description\": \"\"\n      }\n    },\n    {\n      \"column\": \"hum\",\n      \"properties\": {\n        \"dtype\": \"number\",\n        \"std\": 0.16165643245475883,\n        \"min\": 0.436957,\n        \"max\": 0.805833,\n        \"num_unique_values\": 5,\n        \"samples\": [\n          0.696087\n        ],\n        \"semantic_type\": \"\",\n        \"description\": \"\"\n      }\n    },\n    {\n      \"column\": \"windspeed\",\n      \"properties\": {\n        \"dtype\": \"number\",\n        \"std\": 0.044716603499147835,\n        \"min\": 0.160296,\n        \"max\": 0.248539,\n        \"num_unique_values\": 5,\n        \"samples\": [\n          0.248539\n        ],\n        \"semantic_type\": \"\",\n        \"description\": \"\"\n      }\n    },\n    {\n      \"column\": \"casual\",\n      \"properties\": {\n        \"dtype\": \"number\",\n        \"std\": 100,\n        \"min\": 82,\n        \"max\": 331,\n        \"num_unique_values\": 5,\n        \"samples\": [\n          131\n        ],\n        \"semantic_type\": \"\",\n        \"description\": \"\"\n      }\n    },\n    {\n      \"column\": \"registered\",\n      \"properties\": {\n        \"dtype\": \"number\",\n        \"std\": 418,\n        \"min\": 654,\n        \"max\": 1518,\n        \"num_unique_values\": 5,\n        \"samples\": [\n          670\n        ],\n        \"semantic_type\": \"\",\n        \"description\": \"\"\n      }\n    },\n    {\n      \"column\": \"cnt\",\n      \"properties\": {\n        \"dtype\": \"number\",\n        \"std\": 353,\n        \"min\": 801,\n        \"max\": 1600,\n        \"num_unique_values\": 5,\n        \"samples\": [\n          801\n        ],\n        \"semantic_type\": \"\",\n        \"description\": \"\"\n      }\n    }\n  ]\n}"
            }
          },
          "metadata": {}
        }
      ],
      "source": [
        "# Mengumpulkan data day.csv\n",
        "day_df = pd.read_csv('/content/drive/MyDrive/Dataset/Bike_Sharing_Dataset/day.csv')\n",
        "\n",
        "# Menampilkan sebagian data day.csv\n",
        "display(day_df.head())"
      ]
    },
    {
      "cell_type": "markdown",
      "source": [
        "**Insight:**\n",
        "- Pada tahap ini melalukan pengumpulan data dari file day.csv\n",
        "- Kemudian menampilkan sebagian data dari file day.csv"
      ],
      "metadata": {
        "id": "MMi6xGaDkbCi"
      }
    },
    {
      "cell_type": "markdown",
      "source": [
        "**hour_df**"
      ],
      "metadata": {
        "id": "8CMldzQOqtfF"
      }
    },
    {
      "cell_type": "code",
      "source": [
        "# Mengumpulkan data hour.csv\n",
        "hour_df = pd.read_csv('/content/drive/MyDrive/Dataset/Bike_Sharing_Dataset/hour.csv')\n",
        "\n",
        "# Menampilkan sebagian data hour.csv\n",
        "display(hour_df.head())"
      ],
      "metadata": {
        "colab": {
          "base_uri": "https://localhost:8080/",
          "height": 206
        },
        "id": "Oka3JHZtjp-j",
        "outputId": "c94722ca-18d3-40d9-862d-049ef027dd19"
      },
      "execution_count": 27,
      "outputs": [
        {
          "output_type": "display_data",
          "data": {
            "text/plain": [
              "   instant      dteday  season  yr  mnth  hr  holiday  weekday  workingday  \\\n",
              "0        1  2011-01-01       1   0     1   0        0        6           0   \n",
              "1        2  2011-01-01       1   0     1   1        0        6           0   \n",
              "2        3  2011-01-01       1   0     1   2        0        6           0   \n",
              "3        4  2011-01-01       1   0     1   3        0        6           0   \n",
              "4        5  2011-01-01       1   0     1   4        0        6           0   \n",
              "\n",
              "   weathersit  temp   atemp   hum  windspeed  casual  registered  cnt  \n",
              "0           1  0.24  0.2879  0.81        0.0       3          13   16  \n",
              "1           1  0.22  0.2727  0.80        0.0       8          32   40  \n",
              "2           1  0.22  0.2727  0.80        0.0       5          27   32  \n",
              "3           1  0.24  0.2879  0.75        0.0       3          10   13  \n",
              "4           1  0.24  0.2879  0.75        0.0       0           1    1  "
            ],
            "text/html": [
              "\n",
              "  <div id=\"df-2f6f5040-4d8d-4e5f-bd3f-bbdc954512b6\" class=\"colab-df-container\">\n",
              "    <div>\n",
              "<style scoped>\n",
              "    .dataframe tbody tr th:only-of-type {\n",
              "        vertical-align: middle;\n",
              "    }\n",
              "\n",
              "    .dataframe tbody tr th {\n",
              "        vertical-align: top;\n",
              "    }\n",
              "\n",
              "    .dataframe thead th {\n",
              "        text-align: right;\n",
              "    }\n",
              "</style>\n",
              "<table border=\"1\" class=\"dataframe\">\n",
              "  <thead>\n",
              "    <tr style=\"text-align: right;\">\n",
              "      <th></th>\n",
              "      <th>instant</th>\n",
              "      <th>dteday</th>\n",
              "      <th>season</th>\n",
              "      <th>yr</th>\n",
              "      <th>mnth</th>\n",
              "      <th>hr</th>\n",
              "      <th>holiday</th>\n",
              "      <th>weekday</th>\n",
              "      <th>workingday</th>\n",
              "      <th>weathersit</th>\n",
              "      <th>temp</th>\n",
              "      <th>atemp</th>\n",
              "      <th>hum</th>\n",
              "      <th>windspeed</th>\n",
              "      <th>casual</th>\n",
              "      <th>registered</th>\n",
              "      <th>cnt</th>\n",
              "    </tr>\n",
              "  </thead>\n",
              "  <tbody>\n",
              "    <tr>\n",
              "      <th>0</th>\n",
              "      <td>1</td>\n",
              "      <td>2011-01-01</td>\n",
              "      <td>1</td>\n",
              "      <td>0</td>\n",
              "      <td>1</td>\n",
              "      <td>0</td>\n",
              "      <td>0</td>\n",
              "      <td>6</td>\n",
              "      <td>0</td>\n",
              "      <td>1</td>\n",
              "      <td>0.24</td>\n",
              "      <td>0.2879</td>\n",
              "      <td>0.81</td>\n",
              "      <td>0.0</td>\n",
              "      <td>3</td>\n",
              "      <td>13</td>\n",
              "      <td>16</td>\n",
              "    </tr>\n",
              "    <tr>\n",
              "      <th>1</th>\n",
              "      <td>2</td>\n",
              "      <td>2011-01-01</td>\n",
              "      <td>1</td>\n",
              "      <td>0</td>\n",
              "      <td>1</td>\n",
              "      <td>1</td>\n",
              "      <td>0</td>\n",
              "      <td>6</td>\n",
              "      <td>0</td>\n",
              "      <td>1</td>\n",
              "      <td>0.22</td>\n",
              "      <td>0.2727</td>\n",
              "      <td>0.80</td>\n",
              "      <td>0.0</td>\n",
              "      <td>8</td>\n",
              "      <td>32</td>\n",
              "      <td>40</td>\n",
              "    </tr>\n",
              "    <tr>\n",
              "      <th>2</th>\n",
              "      <td>3</td>\n",
              "      <td>2011-01-01</td>\n",
              "      <td>1</td>\n",
              "      <td>0</td>\n",
              "      <td>1</td>\n",
              "      <td>2</td>\n",
              "      <td>0</td>\n",
              "      <td>6</td>\n",
              "      <td>0</td>\n",
              "      <td>1</td>\n",
              "      <td>0.22</td>\n",
              "      <td>0.2727</td>\n",
              "      <td>0.80</td>\n",
              "      <td>0.0</td>\n",
              "      <td>5</td>\n",
              "      <td>27</td>\n",
              "      <td>32</td>\n",
              "    </tr>\n",
              "    <tr>\n",
              "      <th>3</th>\n",
              "      <td>4</td>\n",
              "      <td>2011-01-01</td>\n",
              "      <td>1</td>\n",
              "      <td>0</td>\n",
              "      <td>1</td>\n",
              "      <td>3</td>\n",
              "      <td>0</td>\n",
              "      <td>6</td>\n",
              "      <td>0</td>\n",
              "      <td>1</td>\n",
              "      <td>0.24</td>\n",
              "      <td>0.2879</td>\n",
              "      <td>0.75</td>\n",
              "      <td>0.0</td>\n",
              "      <td>3</td>\n",
              "      <td>10</td>\n",
              "      <td>13</td>\n",
              "    </tr>\n",
              "    <tr>\n",
              "      <th>4</th>\n",
              "      <td>5</td>\n",
              "      <td>2011-01-01</td>\n",
              "      <td>1</td>\n",
              "      <td>0</td>\n",
              "      <td>1</td>\n",
              "      <td>4</td>\n",
              "      <td>0</td>\n",
              "      <td>6</td>\n",
              "      <td>0</td>\n",
              "      <td>1</td>\n",
              "      <td>0.24</td>\n",
              "      <td>0.2879</td>\n",
              "      <td>0.75</td>\n",
              "      <td>0.0</td>\n",
              "      <td>0</td>\n",
              "      <td>1</td>\n",
              "      <td>1</td>\n",
              "    </tr>\n",
              "  </tbody>\n",
              "</table>\n",
              "</div>\n",
              "    <div class=\"colab-df-buttons\">\n",
              "\n",
              "  <div class=\"colab-df-container\">\n",
              "    <button class=\"colab-df-convert\" onclick=\"convertToInteractive('df-2f6f5040-4d8d-4e5f-bd3f-bbdc954512b6')\"\n",
              "            title=\"Convert this dataframe to an interactive table.\"\n",
              "            style=\"display:none;\">\n",
              "\n",
              "  <svg xmlns=\"http://www.w3.org/2000/svg\" height=\"24px\" viewBox=\"0 -960 960 960\">\n",
              "    <path d=\"M120-120v-720h720v720H120Zm60-500h600v-160H180v160Zm220 220h160v-160H400v160Zm0 220h160v-160H400v160ZM180-400h160v-160H180v160Zm440 0h160v-160H620v160ZM180-180h160v-160H180v160Zm440 0h160v-160H620v160Z\"/>\n",
              "  </svg>\n",
              "    </button>\n",
              "\n",
              "  <style>\n",
              "    .colab-df-container {\n",
              "      display:flex;\n",
              "      gap: 12px;\n",
              "    }\n",
              "\n",
              "    .colab-df-convert {\n",
              "      background-color: #E8F0FE;\n",
              "      border: none;\n",
              "      border-radius: 50%;\n",
              "      cursor: pointer;\n",
              "      display: none;\n",
              "      fill: #1967D2;\n",
              "      height: 32px;\n",
              "      padding: 0 0 0 0;\n",
              "      width: 32px;\n",
              "    }\n",
              "\n",
              "    .colab-df-convert:hover {\n",
              "      background-color: #E2EBFA;\n",
              "      box-shadow: 0px 1px 2px rgba(60, 64, 67, 0.3), 0px 1px 3px 1px rgba(60, 64, 67, 0.15);\n",
              "      fill: #174EA6;\n",
              "    }\n",
              "\n",
              "    .colab-df-buttons div {\n",
              "      margin-bottom: 4px;\n",
              "    }\n",
              "\n",
              "    [theme=dark] .colab-df-convert {\n",
              "      background-color: #3B4455;\n",
              "      fill: #D2E3FC;\n",
              "    }\n",
              "\n",
              "    [theme=dark] .colab-df-convert:hover {\n",
              "      background-color: #434B5C;\n",
              "      box-shadow: 0px 1px 3px 1px rgba(0, 0, 0, 0.15);\n",
              "      filter: drop-shadow(0px 1px 2px rgba(0, 0, 0, 0.3));\n",
              "      fill: #FFFFFF;\n",
              "    }\n",
              "  </style>\n",
              "\n",
              "    <script>\n",
              "      const buttonEl =\n",
              "        document.querySelector('#df-2f6f5040-4d8d-4e5f-bd3f-bbdc954512b6 button.colab-df-convert');\n",
              "      buttonEl.style.display =\n",
              "        google.colab.kernel.accessAllowed ? 'block' : 'none';\n",
              "\n",
              "      async function convertToInteractive(key) {\n",
              "        const element = document.querySelector('#df-2f6f5040-4d8d-4e5f-bd3f-bbdc954512b6');\n",
              "        const dataTable =\n",
              "          await google.colab.kernel.invokeFunction('convertToInteractive',\n",
              "                                                    [key], {});\n",
              "        if (!dataTable) return;\n",
              "\n",
              "        const docLinkHtml = 'Like what you see? Visit the ' +\n",
              "          '<a target=\"_blank\" href=https://colab.research.google.com/notebooks/data_table.ipynb>data table notebook</a>'\n",
              "          + ' to learn more about interactive tables.';\n",
              "        element.innerHTML = '';\n",
              "        dataTable['output_type'] = 'display_data';\n",
              "        await google.colab.output.renderOutput(dataTable, element);\n",
              "        const docLink = document.createElement('div');\n",
              "        docLink.innerHTML = docLinkHtml;\n",
              "        element.appendChild(docLink);\n",
              "      }\n",
              "    </script>\n",
              "  </div>\n",
              "\n",
              "\n",
              "<div id=\"df-02eb28bc-505f-4065-9e82-af333adc19f5\">\n",
              "  <button class=\"colab-df-quickchart\" onclick=\"quickchart('df-02eb28bc-505f-4065-9e82-af333adc19f5')\"\n",
              "            title=\"Suggest charts\"\n",
              "            style=\"display:none;\">\n",
              "\n",
              "<svg xmlns=\"http://www.w3.org/2000/svg\" height=\"24px\"viewBox=\"0 0 24 24\"\n",
              "     width=\"24px\">\n",
              "    <g>\n",
              "        <path d=\"M19 3H5c-1.1 0-2 .9-2 2v14c0 1.1.9 2 2 2h14c1.1 0 2-.9 2-2V5c0-1.1-.9-2-2-2zM9 17H7v-7h2v7zm4 0h-2V7h2v10zm4 0h-2v-4h2v4z\"/>\n",
              "    </g>\n",
              "</svg>\n",
              "  </button>\n",
              "\n",
              "<style>\n",
              "  .colab-df-quickchart {\n",
              "      --bg-color: #E8F0FE;\n",
              "      --fill-color: #1967D2;\n",
              "      --hover-bg-color: #E2EBFA;\n",
              "      --hover-fill-color: #174EA6;\n",
              "      --disabled-fill-color: #AAA;\n",
              "      --disabled-bg-color: #DDD;\n",
              "  }\n",
              "\n",
              "  [theme=dark] .colab-df-quickchart {\n",
              "      --bg-color: #3B4455;\n",
              "      --fill-color: #D2E3FC;\n",
              "      --hover-bg-color: #434B5C;\n",
              "      --hover-fill-color: #FFFFFF;\n",
              "      --disabled-bg-color: #3B4455;\n",
              "      --disabled-fill-color: #666;\n",
              "  }\n",
              "\n",
              "  .colab-df-quickchart {\n",
              "    background-color: var(--bg-color);\n",
              "    border: none;\n",
              "    border-radius: 50%;\n",
              "    cursor: pointer;\n",
              "    display: none;\n",
              "    fill: var(--fill-color);\n",
              "    height: 32px;\n",
              "    padding: 0;\n",
              "    width: 32px;\n",
              "  }\n",
              "\n",
              "  .colab-df-quickchart:hover {\n",
              "    background-color: var(--hover-bg-color);\n",
              "    box-shadow: 0 1px 2px rgba(60, 64, 67, 0.3), 0 1px 3px 1px rgba(60, 64, 67, 0.15);\n",
              "    fill: var(--button-hover-fill-color);\n",
              "  }\n",
              "\n",
              "  .colab-df-quickchart-complete:disabled,\n",
              "  .colab-df-quickchart-complete:disabled:hover {\n",
              "    background-color: var(--disabled-bg-color);\n",
              "    fill: var(--disabled-fill-color);\n",
              "    box-shadow: none;\n",
              "  }\n",
              "\n",
              "  .colab-df-spinner {\n",
              "    border: 2px solid var(--fill-color);\n",
              "    border-color: transparent;\n",
              "    border-bottom-color: var(--fill-color);\n",
              "    animation:\n",
              "      spin 1s steps(1) infinite;\n",
              "  }\n",
              "\n",
              "  @keyframes spin {\n",
              "    0% {\n",
              "      border-color: transparent;\n",
              "      border-bottom-color: var(--fill-color);\n",
              "      border-left-color: var(--fill-color);\n",
              "    }\n",
              "    20% {\n",
              "      border-color: transparent;\n",
              "      border-left-color: var(--fill-color);\n",
              "      border-top-color: var(--fill-color);\n",
              "    }\n",
              "    30% {\n",
              "      border-color: transparent;\n",
              "      border-left-color: var(--fill-color);\n",
              "      border-top-color: var(--fill-color);\n",
              "      border-right-color: var(--fill-color);\n",
              "    }\n",
              "    40% {\n",
              "      border-color: transparent;\n",
              "      border-right-color: var(--fill-color);\n",
              "      border-top-color: var(--fill-color);\n",
              "    }\n",
              "    60% {\n",
              "      border-color: transparent;\n",
              "      border-right-color: var(--fill-color);\n",
              "    }\n",
              "    80% {\n",
              "      border-color: transparent;\n",
              "      border-right-color: var(--fill-color);\n",
              "      border-bottom-color: var(--fill-color);\n",
              "    }\n",
              "    90% {\n",
              "      border-color: transparent;\n",
              "      border-bottom-color: var(--fill-color);\n",
              "    }\n",
              "  }\n",
              "</style>\n",
              "\n",
              "  <script>\n",
              "    async function quickchart(key) {\n",
              "      const quickchartButtonEl =\n",
              "        document.querySelector('#' + key + ' button');\n",
              "      quickchartButtonEl.disabled = true;  // To prevent multiple clicks.\n",
              "      quickchartButtonEl.classList.add('colab-df-spinner');\n",
              "      try {\n",
              "        const charts = await google.colab.kernel.invokeFunction(\n",
              "            'suggestCharts', [key], {});\n",
              "      } catch (error) {\n",
              "        console.error('Error during call to suggestCharts:', error);\n",
              "      }\n",
              "      quickchartButtonEl.classList.remove('colab-df-spinner');\n",
              "      quickchartButtonEl.classList.add('colab-df-quickchart-complete');\n",
              "    }\n",
              "    (() => {\n",
              "      let quickchartButtonEl =\n",
              "        document.querySelector('#df-02eb28bc-505f-4065-9e82-af333adc19f5 button');\n",
              "      quickchartButtonEl.style.display =\n",
              "        google.colab.kernel.accessAllowed ? 'block' : 'none';\n",
              "    })();\n",
              "  </script>\n",
              "</div>\n",
              "\n",
              "    </div>\n",
              "  </div>\n"
            ],
            "application/vnd.google.colaboratory.intrinsic+json": {
              "type": "dataframe",
              "summary": "{\n  \"name\": \"display(hour_df\",\n  \"rows\": 5,\n  \"fields\": [\n    {\n      \"column\": \"instant\",\n      \"properties\": {\n        \"dtype\": \"number\",\n        \"std\": 1,\n        \"min\": 1,\n        \"max\": 5,\n        \"num_unique_values\": 5,\n        \"samples\": [\n          2,\n          5,\n          3\n        ],\n        \"semantic_type\": \"\",\n        \"description\": \"\"\n      }\n    },\n    {\n      \"column\": \"dteday\",\n      \"properties\": {\n        \"dtype\": \"object\",\n        \"num_unique_values\": 1,\n        \"samples\": [\n          \"2011-01-01\"\n        ],\n        \"semantic_type\": \"\",\n        \"description\": \"\"\n      }\n    },\n    {\n      \"column\": \"season\",\n      \"properties\": {\n        \"dtype\": \"number\",\n        \"std\": 0,\n        \"min\": 1,\n        \"max\": 1,\n        \"num_unique_values\": 1,\n        \"samples\": [\n          1\n        ],\n        \"semantic_type\": \"\",\n        \"description\": \"\"\n      }\n    },\n    {\n      \"column\": \"yr\",\n      \"properties\": {\n        \"dtype\": \"number\",\n        \"std\": 0,\n        \"min\": 0,\n        \"max\": 0,\n        \"num_unique_values\": 1,\n        \"samples\": [\n          0\n        ],\n        \"semantic_type\": \"\",\n        \"description\": \"\"\n      }\n    },\n    {\n      \"column\": \"mnth\",\n      \"properties\": {\n        \"dtype\": \"number\",\n        \"std\": 0,\n        \"min\": 1,\n        \"max\": 1,\n        \"num_unique_values\": 1,\n        \"samples\": [\n          1\n        ],\n        \"semantic_type\": \"\",\n        \"description\": \"\"\n      }\n    },\n    {\n      \"column\": \"hr\",\n      \"properties\": {\n        \"dtype\": \"number\",\n        \"std\": 1,\n        \"min\": 0,\n        \"max\": 4,\n        \"num_unique_values\": 5,\n        \"samples\": [\n          1\n        ],\n        \"semantic_type\": \"\",\n        \"description\": \"\"\n      }\n    },\n    {\n      \"column\": \"holiday\",\n      \"properties\": {\n        \"dtype\": \"number\",\n        \"std\": 0,\n        \"min\": 0,\n        \"max\": 0,\n        \"num_unique_values\": 1,\n        \"samples\": [\n          0\n        ],\n        \"semantic_type\": \"\",\n        \"description\": \"\"\n      }\n    },\n    {\n      \"column\": \"weekday\",\n      \"properties\": {\n        \"dtype\": \"number\",\n        \"std\": 0,\n        \"min\": 6,\n        \"max\": 6,\n        \"num_unique_values\": 1,\n        \"samples\": [\n          6\n        ],\n        \"semantic_type\": \"\",\n        \"description\": \"\"\n      }\n    },\n    {\n      \"column\": \"workingday\",\n      \"properties\": {\n        \"dtype\": \"number\",\n        \"std\": 0,\n        \"min\": 0,\n        \"max\": 0,\n        \"num_unique_values\": 1,\n        \"samples\": [\n          0\n        ],\n        \"semantic_type\": \"\",\n        \"description\": \"\"\n      }\n    },\n    {\n      \"column\": \"weathersit\",\n      \"properties\": {\n        \"dtype\": \"number\",\n        \"std\": 0,\n        \"min\": 1,\n        \"max\": 1,\n        \"num_unique_values\": 1,\n        \"samples\": [\n          1\n        ],\n        \"semantic_type\": \"\",\n        \"description\": \"\"\n      }\n    },\n    {\n      \"column\": \"temp\",\n      \"properties\": {\n        \"dtype\": \"number\",\n        \"std\": 0.010954451150103317,\n        \"min\": 0.22,\n        \"max\": 0.24,\n        \"num_unique_values\": 2,\n        \"samples\": [\n          0.22\n        ],\n        \"semantic_type\": \"\",\n        \"description\": \"\"\n      }\n    },\n    {\n      \"column\": \"atemp\",\n      \"properties\": {\n        \"dtype\": \"number\",\n        \"std\": 0.00832538287407852,\n        \"min\": 0.2727,\n        \"max\": 0.2879,\n        \"num_unique_values\": 2,\n        \"samples\": [\n          0.2727\n        ],\n        \"semantic_type\": \"\",\n        \"description\": \"\"\n      }\n    },\n    {\n      \"column\": \"hum\",\n      \"properties\": {\n        \"dtype\": \"number\",\n        \"std\": 0.029495762407505278,\n        \"min\": 0.75,\n        \"max\": 0.81,\n        \"num_unique_values\": 3,\n        \"samples\": [\n          0.81\n        ],\n        \"semantic_type\": \"\",\n        \"description\": \"\"\n      }\n    },\n    {\n      \"column\": \"windspeed\",\n      \"properties\": {\n        \"dtype\": \"number\",\n        \"std\": 0.0,\n        \"min\": 0.0,\n        \"max\": 0.0,\n        \"num_unique_values\": 1,\n        \"samples\": [\n          0.0\n        ],\n        \"semantic_type\": \"\",\n        \"description\": \"\"\n      }\n    },\n    {\n      \"column\": \"casual\",\n      \"properties\": {\n        \"dtype\": \"number\",\n        \"std\": 2,\n        \"min\": 0,\n        \"max\": 8,\n        \"num_unique_values\": 4,\n        \"samples\": [\n          8\n        ],\n        \"semantic_type\": \"\",\n        \"description\": \"\"\n      }\n    },\n    {\n      \"column\": \"registered\",\n      \"properties\": {\n        \"dtype\": \"number\",\n        \"std\": 12,\n        \"min\": 1,\n        \"max\": 32,\n        \"num_unique_values\": 5,\n        \"samples\": [\n          32\n        ],\n        \"semantic_type\": \"\",\n        \"description\": \"\"\n      }\n    },\n    {\n      \"column\": \"cnt\",\n      \"properties\": {\n        \"dtype\": \"number\",\n        \"std\": 15,\n        \"min\": 1,\n        \"max\": 40,\n        \"num_unique_values\": 5,\n        \"samples\": [\n          40\n        ],\n        \"semantic_type\": \"\",\n        \"description\": \"\"\n      }\n    }\n  ]\n}"
            }
          },
          "metadata": {}
        }
      ]
    },
    {
      "cell_type": "markdown",
      "source": [
        "**Insight:**\n",
        "- Pada tahap ini melalukan pengumpulan data dari file day.csv\n",
        "- Kemudian menampilkan sebagian data dari file day.csv"
      ],
      "metadata": {
        "id": "_LMpyzsgj1-I"
      }
    },
    {
      "cell_type": "markdown",
      "metadata": {
        "id": "FHSiqaZp8DC1"
      },
      "source": [
        "### Assessing Data"
      ]
    },
    {
      "cell_type": "markdown",
      "source": [
        "**day_df**"
      ],
      "metadata": {
        "id": "KnDioZiNq5b4"
      }
    },
    {
      "cell_type": "markdown",
      "source": [
        "1. Memeriksa tipe data\n"
      ],
      "metadata": {
        "id": "Utj_7bBQlvuo"
      }
    },
    {
      "cell_type": "code",
      "source": [
        "print(\"Informasi tipe data dari file day.csv:\\n\")\n",
        "print(day_df.info())"
      ],
      "metadata": {
        "id": "ax-3tEjc9Cj1",
        "colab": {
          "base_uri": "https://localhost:8080/"
        },
        "outputId": "b442b0be-b7c9-4a21-edae-402e0017e33e"
      },
      "execution_count": 28,
      "outputs": [
        {
          "output_type": "stream",
          "name": "stdout",
          "text": [
            "Informasi tipe data dari file day.csv:\n",
            "\n",
            "<class 'pandas.core.frame.DataFrame'>\n",
            "RangeIndex: 731 entries, 0 to 730\n",
            "Data columns (total 16 columns):\n",
            " #   Column      Non-Null Count  Dtype  \n",
            "---  ------      --------------  -----  \n",
            " 0   instant     731 non-null    int64  \n",
            " 1   dteday      731 non-null    object \n",
            " 2   season      731 non-null    int64  \n",
            " 3   yr          731 non-null    int64  \n",
            " 4   mnth        731 non-null    int64  \n",
            " 5   holiday     731 non-null    int64  \n",
            " 6   weekday     731 non-null    int64  \n",
            " 7   workingday  731 non-null    int64  \n",
            " 8   weathersit  731 non-null    int64  \n",
            " 9   temp        731 non-null    float64\n",
            " 10  atemp       731 non-null    float64\n",
            " 11  hum         731 non-null    float64\n",
            " 12  windspeed   731 non-null    float64\n",
            " 13  casual      731 non-null    int64  \n",
            " 14  registered  731 non-null    int64  \n",
            " 15  cnt         731 non-null    int64  \n",
            "dtypes: float64(4), int64(11), object(1)\n",
            "memory usage: 91.5+ KB\n",
            "None\n"
          ]
        }
      ]
    },
    {
      "cell_type": "markdown",
      "source": [
        "**Insight:**\n",
        "- Pada tahap ini melakukan pemrikasaan terhadap tipe data dari file day.csv"
      ],
      "metadata": {
        "id": "7dtxhAPrkhPL"
      }
    },
    {
      "cell_type": "markdown",
      "source": [
        "2. Memeriksa Missing Values"
      ],
      "metadata": {
        "id": "c5Ycdsv1nY9v"
      }
    },
    {
      "cell_type": "code",
      "source": [
        "print(\"Informasi missing values dari file day.csv:\\n\")\n",
        "print(day_df.isnull().sum())"
      ],
      "metadata": {
        "colab": {
          "base_uri": "https://localhost:8080/"
        },
        "outputId": "3b990f58-b85e-4b74-c999-c82d6e13484a",
        "id": "yR2IeEdKmTI7"
      },
      "execution_count": 29,
      "outputs": [
        {
          "output_type": "stream",
          "name": "stdout",
          "text": [
            "Informasi missing values dari file day.csv:\n",
            "\n",
            "instant       0\n",
            "dteday        0\n",
            "season        0\n",
            "yr            0\n",
            "mnth          0\n",
            "holiday       0\n",
            "weekday       0\n",
            "workingday    0\n",
            "weathersit    0\n",
            "temp          0\n",
            "atemp         0\n",
            "hum           0\n",
            "windspeed     0\n",
            "casual        0\n",
            "registered    0\n",
            "cnt           0\n",
            "dtype: int64\n"
          ]
        }
      ]
    },
    {
      "cell_type": "markdown",
      "source": [
        "**Insight:**\n",
        "- Pada tahap ini melakukan pemrikasaan terhadap missing values dari file day.csv"
      ],
      "metadata": {
        "id": "XSBkNf2kmTI8"
      }
    },
    {
      "cell_type": "markdown",
      "source": [
        "3. Memeriksa duplikasi data"
      ],
      "metadata": {
        "id": "Kw7KojtuoXqL"
      }
    },
    {
      "cell_type": "code",
      "source": [
        "print(\"Informasi data yang memiliki duplikat dari file day.csv:\\n\")\n",
        "print(day_df.duplicated().sum())"
      ],
      "metadata": {
        "colab": {
          "base_uri": "https://localhost:8080/"
        },
        "id": "PZjrfPY5oKby",
        "outputId": "90aae0f5-9b5e-4fe7-d22a-7d2da673a7b2"
      },
      "execution_count": 30,
      "outputs": [
        {
          "output_type": "stream",
          "name": "stdout",
          "text": [
            "Informasi data yang memiliki duplikat dari file day.csv:\n",
            "\n",
            "0\n"
          ]
        }
      ]
    },
    {
      "cell_type": "markdown",
      "source": [
        "**Insight:**\n",
        "- Pada tahap ini melakukan pemrikasaan terhadap data yang memiliki duplikat dari file day.csv"
      ],
      "metadata": {
        "id": "Sq4kRcCWoMAg"
      }
    },
    {
      "cell_type": "markdown",
      "source": [
        "4. Menampilkan ringkasan parameter statistik (mean, min, max dll.)"
      ],
      "metadata": {
        "id": "cRulA0wTpmz6"
      }
    },
    {
      "cell_type": "code",
      "source": [
        "print(\"Informasi staistik deskriptif berupa parameter semisal mean, min, max dan lainnya dari file day.csv:\\n\")\n",
        "print(day_df.describe())"
      ],
      "metadata": {
        "colab": {
          "base_uri": "https://localhost:8080/"
        },
        "id": "MPJam-uXoEoM",
        "outputId": "0c425147-f061-49c2-bbc2-268cbec7ca5b"
      },
      "execution_count": 31,
      "outputs": [
        {
          "output_type": "stream",
          "name": "stdout",
          "text": [
            "Informasi staistik deskriptif berupa parameter semisal mean, min, max dan lainnya dari file day.csv:\n",
            "\n",
            "          instant      season          yr        mnth     holiday     weekday  \\\n",
            "count  731.000000  731.000000  731.000000  731.000000  731.000000  731.000000   \n",
            "mean   366.000000    2.496580    0.500684    6.519836    0.028728    2.997264   \n",
            "std    211.165812    1.110807    0.500342    3.451913    0.167155    2.004787   \n",
            "min      1.000000    1.000000    0.000000    1.000000    0.000000    0.000000   \n",
            "25%    183.500000    2.000000    0.000000    4.000000    0.000000    1.000000   \n",
            "50%    366.000000    3.000000    1.000000    7.000000    0.000000    3.000000   \n",
            "75%    548.500000    3.000000    1.000000   10.000000    0.000000    5.000000   \n",
            "max    731.000000    4.000000    1.000000   12.000000    1.000000    6.000000   \n",
            "\n",
            "       workingday  weathersit        temp       atemp         hum   windspeed  \\\n",
            "count  731.000000  731.000000  731.000000  731.000000  731.000000  731.000000   \n",
            "mean     0.683995    1.395349    0.495385    0.474354    0.627894    0.190486   \n",
            "std      0.465233    0.544894    0.183051    0.162961    0.142429    0.077498   \n",
            "min      0.000000    1.000000    0.059130    0.079070    0.000000    0.022392   \n",
            "25%      0.000000    1.000000    0.337083    0.337842    0.520000    0.134950   \n",
            "50%      1.000000    1.000000    0.498333    0.486733    0.626667    0.180975   \n",
            "75%      1.000000    2.000000    0.655417    0.608602    0.730209    0.233214   \n",
            "max      1.000000    3.000000    0.861667    0.840896    0.972500    0.507463   \n",
            "\n",
            "            casual   registered          cnt  \n",
            "count   731.000000   731.000000   731.000000  \n",
            "mean    848.176471  3656.172367  4504.348837  \n",
            "std     686.622488  1560.256377  1937.211452  \n",
            "min       2.000000    20.000000    22.000000  \n",
            "25%     315.500000  2497.000000  3152.000000  \n",
            "50%     713.000000  3662.000000  4548.000000  \n",
            "75%    1096.000000  4776.500000  5956.000000  \n",
            "max    3410.000000  6946.000000  8714.000000  \n"
          ]
        }
      ]
    },
    {
      "cell_type": "markdown",
      "source": [
        "**Insight:**\n",
        "- Pada tahap ini melakukan pemrikasaan terhadap parameter statistik data semisal mean, min, max dan lainnya dari file day.csv"
      ],
      "metadata": {
        "id": "Eb3yI-_LpJaY"
      }
    },
    {
      "cell_type": "markdown",
      "source": [
        "**hour_df**"
      ],
      "metadata": {
        "id": "tlRR17rHsOBT"
      }
    },
    {
      "cell_type": "markdown",
      "source": [
        "1. Memeriksa tipe data\n"
      ],
      "metadata": {
        "id": "Zhz88uLIsOBU"
      }
    },
    {
      "cell_type": "code",
      "source": [
        "print(\"Informasi tipe data dari file hour.csv:\\n\")\n",
        "print(hour_df.info())"
      ],
      "metadata": {
        "colab": {
          "base_uri": "https://localhost:8080/"
        },
        "outputId": "3673a4c1-fc34-49d4-9bac-604fdbfc3528",
        "id": "ofJen0kbsOBU"
      },
      "execution_count": 32,
      "outputs": [
        {
          "output_type": "stream",
          "name": "stdout",
          "text": [
            "Informasi tipe data dari file hour.csv:\n",
            "\n",
            "<class 'pandas.core.frame.DataFrame'>\n",
            "RangeIndex: 17379 entries, 0 to 17378\n",
            "Data columns (total 17 columns):\n",
            " #   Column      Non-Null Count  Dtype  \n",
            "---  ------      --------------  -----  \n",
            " 0   instant     17379 non-null  int64  \n",
            " 1   dteday      17379 non-null  object \n",
            " 2   season      17379 non-null  int64  \n",
            " 3   yr          17379 non-null  int64  \n",
            " 4   mnth        17379 non-null  int64  \n",
            " 5   hr          17379 non-null  int64  \n",
            " 6   holiday     17379 non-null  int64  \n",
            " 7   weekday     17379 non-null  int64  \n",
            " 8   workingday  17379 non-null  int64  \n",
            " 9   weathersit  17379 non-null  int64  \n",
            " 10  temp        17379 non-null  float64\n",
            " 11  atemp       17379 non-null  float64\n",
            " 12  hum         17379 non-null  float64\n",
            " 13  windspeed   17379 non-null  float64\n",
            " 14  casual      17379 non-null  int64  \n",
            " 15  registered  17379 non-null  int64  \n",
            " 16  cnt         17379 non-null  int64  \n",
            "dtypes: float64(4), int64(12), object(1)\n",
            "memory usage: 2.3+ MB\n",
            "None\n"
          ]
        }
      ]
    },
    {
      "cell_type": "markdown",
      "source": [
        "**Insight:**\n",
        "- Pada tahap ini melakukan pemrikasaan terhadap tipe data dari file hour.csv"
      ],
      "metadata": {
        "id": "OW3-zBblsOBV"
      }
    },
    {
      "cell_type": "markdown",
      "source": [
        "2. Memeriksa Missing Values"
      ],
      "metadata": {
        "id": "XHPL05QusOBV"
      }
    },
    {
      "cell_type": "code",
      "source": [
        "print(\"Informasi missing values dari file hour.csv:\\n\")\n",
        "print(hour_df.isnull().sum())"
      ],
      "metadata": {
        "colab": {
          "base_uri": "https://localhost:8080/"
        },
        "outputId": "f9e809f4-b2f2-4dc3-ffbd-9da25b210089",
        "id": "JyvUs-_dsOBV"
      },
      "execution_count": 33,
      "outputs": [
        {
          "output_type": "stream",
          "name": "stdout",
          "text": [
            "Informasi missing values dari file hour.csv:\n",
            "\n",
            "instant       0\n",
            "dteday        0\n",
            "season        0\n",
            "yr            0\n",
            "mnth          0\n",
            "hr            0\n",
            "holiday       0\n",
            "weekday       0\n",
            "workingday    0\n",
            "weathersit    0\n",
            "temp          0\n",
            "atemp         0\n",
            "hum           0\n",
            "windspeed     0\n",
            "casual        0\n",
            "registered    0\n",
            "cnt           0\n",
            "dtype: int64\n"
          ]
        }
      ]
    },
    {
      "cell_type": "markdown",
      "source": [
        "**Insight:**\n",
        "- Pada tahap ini melakukan pemrikasaan terhadap missing values dari file hour.csv"
      ],
      "metadata": {
        "id": "OKa76jq-sOBV"
      }
    },
    {
      "cell_type": "markdown",
      "source": [
        "3. Memeriksa duplikasi data"
      ],
      "metadata": {
        "id": "yFT5H-F_sOBW"
      }
    },
    {
      "cell_type": "code",
      "source": [
        "print(\"Informasi data yang memiliki duplikat dari file hour.csv:\\n\")\n",
        "print(hour_df.duplicated().sum())"
      ],
      "metadata": {
        "colab": {
          "base_uri": "https://localhost:8080/"
        },
        "outputId": "8806fa90-82c8-452a-f97d-2e63fec96d28",
        "id": "thM9K8uUsOBW"
      },
      "execution_count": 35,
      "outputs": [
        {
          "output_type": "stream",
          "name": "stdout",
          "text": [
            "Informasi data yang memiliki duplikat dari file hour.csv:\n",
            "\n",
            "0\n"
          ]
        }
      ]
    },
    {
      "cell_type": "markdown",
      "source": [
        "**Insight:**\n",
        "- Pada tahap ini melakukan pemrikasaan terhadap data yang memiliki duplikat dari file hour.csv"
      ],
      "metadata": {
        "id": "aq44nKrdsOBW"
      }
    },
    {
      "cell_type": "markdown",
      "source": [
        "4. Menampilkan ringkasan parameter statistik (mean, min, max dll.)"
      ],
      "metadata": {
        "id": "Z6CPIlHdsOBW"
      }
    },
    {
      "cell_type": "code",
      "source": [
        "print(\"Informasi staistik deskriptif berupa parameter semisal mean, min, max dan lainnya dari file hour.csv:\\n\")\n",
        "print(hour_df.describe())"
      ],
      "metadata": {
        "colab": {
          "base_uri": "https://localhost:8080/"
        },
        "outputId": "f5716c43-b724-4654-d84d-52f522be08a4",
        "id": "V5H9WxGwsOBW"
      },
      "execution_count": 36,
      "outputs": [
        {
          "output_type": "stream",
          "name": "stdout",
          "text": [
            "Informasi staistik deskriptif berupa parameter semisal mean, min, max dan lainnya dari file hour.csv:\n",
            "\n",
            "          instant        season            yr          mnth            hr  \\\n",
            "count  17379.0000  17379.000000  17379.000000  17379.000000  17379.000000   \n",
            "mean    8690.0000      2.501640      0.502561      6.537775     11.546752   \n",
            "std     5017.0295      1.106918      0.500008      3.438776      6.914405   \n",
            "min        1.0000      1.000000      0.000000      1.000000      0.000000   \n",
            "25%     4345.5000      2.000000      0.000000      4.000000      6.000000   \n",
            "50%     8690.0000      3.000000      1.000000      7.000000     12.000000   \n",
            "75%    13034.5000      3.000000      1.000000     10.000000     18.000000   \n",
            "max    17379.0000      4.000000      1.000000     12.000000     23.000000   \n",
            "\n",
            "            holiday       weekday    workingday    weathersit          temp  \\\n",
            "count  17379.000000  17379.000000  17379.000000  17379.000000  17379.000000   \n",
            "mean       0.028770      3.003683      0.682721      1.425283      0.496987   \n",
            "std        0.167165      2.005771      0.465431      0.639357      0.192556   \n",
            "min        0.000000      0.000000      0.000000      1.000000      0.020000   \n",
            "25%        0.000000      1.000000      0.000000      1.000000      0.340000   \n",
            "50%        0.000000      3.000000      1.000000      1.000000      0.500000   \n",
            "75%        0.000000      5.000000      1.000000      2.000000      0.660000   \n",
            "max        1.000000      6.000000      1.000000      4.000000      1.000000   \n",
            "\n",
            "              atemp           hum     windspeed        casual    registered  \\\n",
            "count  17379.000000  17379.000000  17379.000000  17379.000000  17379.000000   \n",
            "mean       0.475775      0.627229      0.190098     35.676218    153.786869   \n",
            "std        0.171850      0.192930      0.122340     49.305030    151.357286   \n",
            "min        0.000000      0.000000      0.000000      0.000000      0.000000   \n",
            "25%        0.333300      0.480000      0.104500      4.000000     34.000000   \n",
            "50%        0.484800      0.630000      0.194000     17.000000    115.000000   \n",
            "75%        0.621200      0.780000      0.253700     48.000000    220.000000   \n",
            "max        1.000000      1.000000      0.850700    367.000000    886.000000   \n",
            "\n",
            "                cnt  \n",
            "count  17379.000000  \n",
            "mean     189.463088  \n",
            "std      181.387599  \n",
            "min        1.000000  \n",
            "25%       40.000000  \n",
            "50%      142.000000  \n",
            "75%      281.000000  \n",
            "max      977.000000  \n"
          ]
        }
      ]
    },
    {
      "cell_type": "markdown",
      "source": [
        "**Insight:**\n",
        "- Pada tahap ini melakukan pemrikasaan terhadap parameter statistik data semisal mean, min, max dan lainnya dari file hour.csv"
      ],
      "metadata": {
        "id": "D1tgzwfHsOBX"
      }
    },
    {
      "cell_type": "markdown",
      "metadata": {
        "id": "EhN5R4hr8DC1"
      },
      "source": [
        "### Cleaning Data"
      ]
    },
    {
      "cell_type": "markdown",
      "source": [
        "1. Mengubah tipe data"
      ],
      "metadata": {
        "id": "4IGXdjTcx1_Q"
      }
    },
    {
      "cell_type": "code",
      "source": [
        "# day_df\n",
        "day_df['dteday'] = pd.to_datetime(day_df['dteday'])\n",
        "\n",
        "# hour_df\n",
        "hour_df['dteday'] = pd.to_datetime(hour_df['dteday'])\n",
        "hour_df['datetime'] = hour_df['dteday'] + pd.to_timedelta(hour_df['hr'], unit='h')\n"
      ],
      "metadata": {
        "id": "jVnYpprE9Evz"
      },
      "execution_count": 37,
      "outputs": []
    },
    {
      "cell_type": "markdown",
      "source": [
        "**Insight:**\n",
        "- Pada tahap ini melakukan pengubahan tipe data pada kolom 'dteday' menjadi tipe datetime pada day_df\n",
        "- Pada tahap ini melakukan pengubahan tipe data pada kolom 'dteday' dan 'hr' menjadi tipe datetime pada hour_data\n",
        "- menambahkan kolom baru bernama 'datetime' pada hour_df"
      ],
      "metadata": {
        "id": "Q_5ejIqckiSP"
      }
    },
    {
      "cell_type": "markdown",
      "source": [
        "2. Menghapus kolom yang tidak diperlukan"
      ],
      "metadata": {
        "id": "Fk8n3IPbzUBE"
      }
    },
    {
      "cell_type": "code",
      "source": [
        "# day_df\n",
        "day_df_clean = day_df.drop(['instant'], axis=1)\n",
        "\n",
        "# hour_df\n",
        "hour_df_clean = hour_df.drop(['instant', 'dteday', 'hr'], axis=1)"
      ],
      "metadata": {
        "id": "y5ErDAXt8BQn"
      },
      "execution_count": 38,
      "outputs": []
    },
    {
      "cell_type": "markdown",
      "source": [
        "**Insight:**\n",
        "- Pada tahap ini melakukan penghapusan kolom 'instant' karena dianggap tidak terlalu diperlukan pada day_df\n",
        "- Pada tahap ini melakukan penghapusan kolom 'instant', 'dteday', dan 'hr' karena dianggap tidak terlalu diperlukan pada day_df"
      ],
      "metadata": {
        "id": "1QN80Q_-8Eu9"
      }
    },
    {
      "cell_type": "code",
      "source": [
        "# Menyimpan file CSV yang telah dibersihkan\n",
        "day_df_clean.to_csv('cleaned_day.csv', index=False)\n",
        "hour_df_clean.to_csv('cleaned_hour.csv', index=False)\n",
        "\n",
        "# Mengunduh file yang telah dibersihkan\n",
        "from google.colab import files\n",
        "files.download('cleaned_day.csv')\n",
        "files.download('cleaned_hour.csv')"
      ],
      "metadata": {
        "colab": {
          "base_uri": "https://localhost:8080/",
          "height": 17
        },
        "id": "xvKdnQN7jOax",
        "outputId": "13fe1f37-5242-4c14-be22-e7ca6a93d562"
      },
      "execution_count": 39,
      "outputs": [
        {
          "output_type": "display_data",
          "data": {
            "text/plain": [
              "<IPython.core.display.Javascript object>"
            ],
            "application/javascript": [
              "\n",
              "    async function download(id, filename, size) {\n",
              "      if (!google.colab.kernel.accessAllowed) {\n",
              "        return;\n",
              "      }\n",
              "      const div = document.createElement('div');\n",
              "      const label = document.createElement('label');\n",
              "      label.textContent = `Downloading \"${filename}\": `;\n",
              "      div.appendChild(label);\n",
              "      const progress = document.createElement('progress');\n",
              "      progress.max = size;\n",
              "      div.appendChild(progress);\n",
              "      document.body.appendChild(div);\n",
              "\n",
              "      const buffers = [];\n",
              "      let downloaded = 0;\n",
              "\n",
              "      const channel = await google.colab.kernel.comms.open(id);\n",
              "      // Send a message to notify the kernel that we're ready.\n",
              "      channel.send({})\n",
              "\n",
              "      for await (const message of channel.messages) {\n",
              "        // Send a message to notify the kernel that we're ready.\n",
              "        channel.send({})\n",
              "        if (message.buffers) {\n",
              "          for (const buffer of message.buffers) {\n",
              "            buffers.push(buffer);\n",
              "            downloaded += buffer.byteLength;\n",
              "            progress.value = downloaded;\n",
              "          }\n",
              "        }\n",
              "      }\n",
              "      const blob = new Blob(buffers, {type: 'application/binary'});\n",
              "      const a = document.createElement('a');\n",
              "      a.href = window.URL.createObjectURL(blob);\n",
              "      a.download = filename;\n",
              "      div.appendChild(a);\n",
              "      a.click();\n",
              "      div.remove();\n",
              "    }\n",
              "  "
            ]
          },
          "metadata": {}
        },
        {
          "output_type": "display_data",
          "data": {
            "text/plain": [
              "<IPython.core.display.Javascript object>"
            ],
            "application/javascript": [
              "download(\"download_8ec8fb93-ac76-4279-8871-377dc5b2fdc7\", \"cleaned_day.csv\", 54015)"
            ]
          },
          "metadata": {}
        },
        {
          "output_type": "display_data",
          "data": {
            "text/plain": [
              "<IPython.core.display.Javascript object>"
            ],
            "application/javascript": [
              "\n",
              "    async function download(id, filename, size) {\n",
              "      if (!google.colab.kernel.accessAllowed) {\n",
              "        return;\n",
              "      }\n",
              "      const div = document.createElement('div');\n",
              "      const label = document.createElement('label');\n",
              "      label.textContent = `Downloading \"${filename}\": `;\n",
              "      div.appendChild(label);\n",
              "      const progress = document.createElement('progress');\n",
              "      progress.max = size;\n",
              "      div.appendChild(progress);\n",
              "      document.body.appendChild(div);\n",
              "\n",
              "      const buffers = [];\n",
              "      let downloaded = 0;\n",
              "\n",
              "      const channel = await google.colab.kernel.comms.open(id);\n",
              "      // Send a message to notify the kernel that we're ready.\n",
              "      channel.send({})\n",
              "\n",
              "      for await (const message of channel.messages) {\n",
              "        // Send a message to notify the kernel that we're ready.\n",
              "        channel.send({})\n",
              "        if (message.buffers) {\n",
              "          for (const buffer of message.buffers) {\n",
              "            buffers.push(buffer);\n",
              "            downloaded += buffer.byteLength;\n",
              "            progress.value = downloaded;\n",
              "          }\n",
              "        }\n",
              "      }\n",
              "      const blob = new Blob(buffers, {type: 'application/binary'});\n",
              "      const a = document.createElement('a');\n",
              "      a.href = window.URL.createObjectURL(blob);\n",
              "      a.download = filename;\n",
              "      div.appendChild(a);\n",
              "      a.click();\n",
              "      div.remove();\n",
              "    }\n",
              "  "
            ]
          },
          "metadata": {}
        },
        {
          "output_type": "display_data",
          "data": {
            "text/plain": [
              "<IPython.core.display.Javascript object>"
            ],
            "application/javascript": [
              "download(\"download_8a7a2f7c-c750-42af-bad5-9daa69481f59\", \"cleaned_hour.csv\", 1162587)"
            ]
          },
          "metadata": {}
        }
      ]
    },
    {
      "cell_type": "markdown",
      "source": [
        "**Insight:**\n",
        "- Pada tahap ini membuat file csv baru berdasarkan file csv yang telah dibersihkan dengan nama cleaned_day dan cleaned_hour"
      ],
      "metadata": {
        "id": "hqDu_IMjRtKF"
      }
    },
    {
      "cell_type": "code",
      "source": [
        "print(day_df_clean.info())"
      ],
      "metadata": {
        "colab": {
          "base_uri": "https://localhost:8080/"
        },
        "id": "SZcA1TubqmEP",
        "outputId": "ef3c98a0-8156-4c4e-8e51-218bf6461b97"
      },
      "execution_count": 40,
      "outputs": [
        {
          "output_type": "stream",
          "name": "stdout",
          "text": [
            "<class 'pandas.core.frame.DataFrame'>\n",
            "RangeIndex: 731 entries, 0 to 730\n",
            "Data columns (total 15 columns):\n",
            " #   Column      Non-Null Count  Dtype         \n",
            "---  ------      --------------  -----         \n",
            " 0   dteday      731 non-null    datetime64[ns]\n",
            " 1   season      731 non-null    int64         \n",
            " 2   yr          731 non-null    int64         \n",
            " 3   mnth        731 non-null    int64         \n",
            " 4   holiday     731 non-null    int64         \n",
            " 5   weekday     731 non-null    int64         \n",
            " 6   workingday  731 non-null    int64         \n",
            " 7   weathersit  731 non-null    int64         \n",
            " 8   temp        731 non-null    float64       \n",
            " 9   atemp       731 non-null    float64       \n",
            " 10  hum         731 non-null    float64       \n",
            " 11  windspeed   731 non-null    float64       \n",
            " 12  casual      731 non-null    int64         \n",
            " 13  registered  731 non-null    int64         \n",
            " 14  cnt         731 non-null    int64         \n",
            "dtypes: datetime64[ns](1), float64(4), int64(10)\n",
            "memory usage: 85.8 KB\n",
            "None\n"
          ]
        }
      ]
    },
    {
      "cell_type": "markdown",
      "metadata": {
        "id": "gp-Y6wU38DC1"
      },
      "source": [
        "## Exploratory Data Analysis (EDA)"
      ]
    },
    {
      "cell_type": "markdown",
      "metadata": {
        "id": "MW7WF2kr8DC1"
      },
      "source": [
        "### Explore ..."
      ]
    },
    {
      "cell_type": "markdown",
      "source": [
        "Pada tahap EDA ini menggunakan file day_df_clean"
      ],
      "metadata": {
        "id": "dF1T62-fgAQn"
      }
    },
    {
      "cell_type": "code",
      "source": [
        "# Menghitung korelasi\n",
        "corr = day_df_clean[['temp', 'hum', 'windspeed', 'cnt']].corr()\n",
        "print(\"Korelasi antara variabel:\")\n",
        "display(corr)"
      ],
      "metadata": {
        "colab": {
          "base_uri": "https://localhost:8080/",
          "height": 192
        },
        "id": "ip08Ks-Xksyp",
        "outputId": "50820d37-ab8d-4f96-b1d5-76db1bc7cc9c"
      },
      "execution_count": 41,
      "outputs": [
        {
          "output_type": "stream",
          "name": "stdout",
          "text": [
            "Korelasi antara variabel:\n"
          ]
        },
        {
          "output_type": "display_data",
          "data": {
            "text/plain": [
              "               temp       hum  windspeed       cnt\n",
              "temp       1.000000  0.126963  -0.157944  0.627494\n",
              "hum        0.126963  1.000000  -0.248489 -0.100659\n",
              "windspeed -0.157944 -0.248489   1.000000 -0.234545\n",
              "cnt        0.627494 -0.100659  -0.234545  1.000000"
            ],
            "text/html": [
              "\n",
              "  <div id=\"df-5a660a9a-f013-48e4-9b7e-7d61739d24b7\" class=\"colab-df-container\">\n",
              "    <div>\n",
              "<style scoped>\n",
              "    .dataframe tbody tr th:only-of-type {\n",
              "        vertical-align: middle;\n",
              "    }\n",
              "\n",
              "    .dataframe tbody tr th {\n",
              "        vertical-align: top;\n",
              "    }\n",
              "\n",
              "    .dataframe thead th {\n",
              "        text-align: right;\n",
              "    }\n",
              "</style>\n",
              "<table border=\"1\" class=\"dataframe\">\n",
              "  <thead>\n",
              "    <tr style=\"text-align: right;\">\n",
              "      <th></th>\n",
              "      <th>temp</th>\n",
              "      <th>hum</th>\n",
              "      <th>windspeed</th>\n",
              "      <th>cnt</th>\n",
              "    </tr>\n",
              "  </thead>\n",
              "  <tbody>\n",
              "    <tr>\n",
              "      <th>temp</th>\n",
              "      <td>1.000000</td>\n",
              "      <td>0.126963</td>\n",
              "      <td>-0.157944</td>\n",
              "      <td>0.627494</td>\n",
              "    </tr>\n",
              "    <tr>\n",
              "      <th>hum</th>\n",
              "      <td>0.126963</td>\n",
              "      <td>1.000000</td>\n",
              "      <td>-0.248489</td>\n",
              "      <td>-0.100659</td>\n",
              "    </tr>\n",
              "    <tr>\n",
              "      <th>windspeed</th>\n",
              "      <td>-0.157944</td>\n",
              "      <td>-0.248489</td>\n",
              "      <td>1.000000</td>\n",
              "      <td>-0.234545</td>\n",
              "    </tr>\n",
              "    <tr>\n",
              "      <th>cnt</th>\n",
              "      <td>0.627494</td>\n",
              "      <td>-0.100659</td>\n",
              "      <td>-0.234545</td>\n",
              "      <td>1.000000</td>\n",
              "    </tr>\n",
              "  </tbody>\n",
              "</table>\n",
              "</div>\n",
              "    <div class=\"colab-df-buttons\">\n",
              "\n",
              "  <div class=\"colab-df-container\">\n",
              "    <button class=\"colab-df-convert\" onclick=\"convertToInteractive('df-5a660a9a-f013-48e4-9b7e-7d61739d24b7')\"\n",
              "            title=\"Convert this dataframe to an interactive table.\"\n",
              "            style=\"display:none;\">\n",
              "\n",
              "  <svg xmlns=\"http://www.w3.org/2000/svg\" height=\"24px\" viewBox=\"0 -960 960 960\">\n",
              "    <path d=\"M120-120v-720h720v720H120Zm60-500h600v-160H180v160Zm220 220h160v-160H400v160Zm0 220h160v-160H400v160ZM180-400h160v-160H180v160Zm440 0h160v-160H620v160ZM180-180h160v-160H180v160Zm440 0h160v-160H620v160Z\"/>\n",
              "  </svg>\n",
              "    </button>\n",
              "\n",
              "  <style>\n",
              "    .colab-df-container {\n",
              "      display:flex;\n",
              "      gap: 12px;\n",
              "    }\n",
              "\n",
              "    .colab-df-convert {\n",
              "      background-color: #E8F0FE;\n",
              "      border: none;\n",
              "      border-radius: 50%;\n",
              "      cursor: pointer;\n",
              "      display: none;\n",
              "      fill: #1967D2;\n",
              "      height: 32px;\n",
              "      padding: 0 0 0 0;\n",
              "      width: 32px;\n",
              "    }\n",
              "\n",
              "    .colab-df-convert:hover {\n",
              "      background-color: #E2EBFA;\n",
              "      box-shadow: 0px 1px 2px rgba(60, 64, 67, 0.3), 0px 1px 3px 1px rgba(60, 64, 67, 0.15);\n",
              "      fill: #174EA6;\n",
              "    }\n",
              "\n",
              "    .colab-df-buttons div {\n",
              "      margin-bottom: 4px;\n",
              "    }\n",
              "\n",
              "    [theme=dark] .colab-df-convert {\n",
              "      background-color: #3B4455;\n",
              "      fill: #D2E3FC;\n",
              "    }\n",
              "\n",
              "    [theme=dark] .colab-df-convert:hover {\n",
              "      background-color: #434B5C;\n",
              "      box-shadow: 0px 1px 3px 1px rgba(0, 0, 0, 0.15);\n",
              "      filter: drop-shadow(0px 1px 2px rgba(0, 0, 0, 0.3));\n",
              "      fill: #FFFFFF;\n",
              "    }\n",
              "  </style>\n",
              "\n",
              "    <script>\n",
              "      const buttonEl =\n",
              "        document.querySelector('#df-5a660a9a-f013-48e4-9b7e-7d61739d24b7 button.colab-df-convert');\n",
              "      buttonEl.style.display =\n",
              "        google.colab.kernel.accessAllowed ? 'block' : 'none';\n",
              "\n",
              "      async function convertToInteractive(key) {\n",
              "        const element = document.querySelector('#df-5a660a9a-f013-48e4-9b7e-7d61739d24b7');\n",
              "        const dataTable =\n",
              "          await google.colab.kernel.invokeFunction('convertToInteractive',\n",
              "                                                    [key], {});\n",
              "        if (!dataTable) return;\n",
              "\n",
              "        const docLinkHtml = 'Like what you see? Visit the ' +\n",
              "          '<a target=\"_blank\" href=https://colab.research.google.com/notebooks/data_table.ipynb>data table notebook</a>'\n",
              "          + ' to learn more about interactive tables.';\n",
              "        element.innerHTML = '';\n",
              "        dataTable['output_type'] = 'display_data';\n",
              "        await google.colab.output.renderOutput(dataTable, element);\n",
              "        const docLink = document.createElement('div');\n",
              "        docLink.innerHTML = docLinkHtml;\n",
              "        element.appendChild(docLink);\n",
              "      }\n",
              "    </script>\n",
              "  </div>\n",
              "\n",
              "\n",
              "<div id=\"df-fc34344c-4ba7-4608-8534-b58e7fdd2a5f\">\n",
              "  <button class=\"colab-df-quickchart\" onclick=\"quickchart('df-fc34344c-4ba7-4608-8534-b58e7fdd2a5f')\"\n",
              "            title=\"Suggest charts\"\n",
              "            style=\"display:none;\">\n",
              "\n",
              "<svg xmlns=\"http://www.w3.org/2000/svg\" height=\"24px\"viewBox=\"0 0 24 24\"\n",
              "     width=\"24px\">\n",
              "    <g>\n",
              "        <path d=\"M19 3H5c-1.1 0-2 .9-2 2v14c0 1.1.9 2 2 2h14c1.1 0 2-.9 2-2V5c0-1.1-.9-2-2-2zM9 17H7v-7h2v7zm4 0h-2V7h2v10zm4 0h-2v-4h2v4z\"/>\n",
              "    </g>\n",
              "</svg>\n",
              "  </button>\n",
              "\n",
              "<style>\n",
              "  .colab-df-quickchart {\n",
              "      --bg-color: #E8F0FE;\n",
              "      --fill-color: #1967D2;\n",
              "      --hover-bg-color: #E2EBFA;\n",
              "      --hover-fill-color: #174EA6;\n",
              "      --disabled-fill-color: #AAA;\n",
              "      --disabled-bg-color: #DDD;\n",
              "  }\n",
              "\n",
              "  [theme=dark] .colab-df-quickchart {\n",
              "      --bg-color: #3B4455;\n",
              "      --fill-color: #D2E3FC;\n",
              "      --hover-bg-color: #434B5C;\n",
              "      --hover-fill-color: #FFFFFF;\n",
              "      --disabled-bg-color: #3B4455;\n",
              "      --disabled-fill-color: #666;\n",
              "  }\n",
              "\n",
              "  .colab-df-quickchart {\n",
              "    background-color: var(--bg-color);\n",
              "    border: none;\n",
              "    border-radius: 50%;\n",
              "    cursor: pointer;\n",
              "    display: none;\n",
              "    fill: var(--fill-color);\n",
              "    height: 32px;\n",
              "    padding: 0;\n",
              "    width: 32px;\n",
              "  }\n",
              "\n",
              "  .colab-df-quickchart:hover {\n",
              "    background-color: var(--hover-bg-color);\n",
              "    box-shadow: 0 1px 2px rgba(60, 64, 67, 0.3), 0 1px 3px 1px rgba(60, 64, 67, 0.15);\n",
              "    fill: var(--button-hover-fill-color);\n",
              "  }\n",
              "\n",
              "  .colab-df-quickchart-complete:disabled,\n",
              "  .colab-df-quickchart-complete:disabled:hover {\n",
              "    background-color: var(--disabled-bg-color);\n",
              "    fill: var(--disabled-fill-color);\n",
              "    box-shadow: none;\n",
              "  }\n",
              "\n",
              "  .colab-df-spinner {\n",
              "    border: 2px solid var(--fill-color);\n",
              "    border-color: transparent;\n",
              "    border-bottom-color: var(--fill-color);\n",
              "    animation:\n",
              "      spin 1s steps(1) infinite;\n",
              "  }\n",
              "\n",
              "  @keyframes spin {\n",
              "    0% {\n",
              "      border-color: transparent;\n",
              "      border-bottom-color: var(--fill-color);\n",
              "      border-left-color: var(--fill-color);\n",
              "    }\n",
              "    20% {\n",
              "      border-color: transparent;\n",
              "      border-left-color: var(--fill-color);\n",
              "      border-top-color: var(--fill-color);\n",
              "    }\n",
              "    30% {\n",
              "      border-color: transparent;\n",
              "      border-left-color: var(--fill-color);\n",
              "      border-top-color: var(--fill-color);\n",
              "      border-right-color: var(--fill-color);\n",
              "    }\n",
              "    40% {\n",
              "      border-color: transparent;\n",
              "      border-right-color: var(--fill-color);\n",
              "      border-top-color: var(--fill-color);\n",
              "    }\n",
              "    60% {\n",
              "      border-color: transparent;\n",
              "      border-right-color: var(--fill-color);\n",
              "    }\n",
              "    80% {\n",
              "      border-color: transparent;\n",
              "      border-right-color: var(--fill-color);\n",
              "      border-bottom-color: var(--fill-color);\n",
              "    }\n",
              "    90% {\n",
              "      border-color: transparent;\n",
              "      border-bottom-color: var(--fill-color);\n",
              "    }\n",
              "  }\n",
              "</style>\n",
              "\n",
              "  <script>\n",
              "    async function quickchart(key) {\n",
              "      const quickchartButtonEl =\n",
              "        document.querySelector('#' + key + ' button');\n",
              "      quickchartButtonEl.disabled = true;  // To prevent multiple clicks.\n",
              "      quickchartButtonEl.classList.add('colab-df-spinner');\n",
              "      try {\n",
              "        const charts = await google.colab.kernel.invokeFunction(\n",
              "            'suggestCharts', [key], {});\n",
              "      } catch (error) {\n",
              "        console.error('Error during call to suggestCharts:', error);\n",
              "      }\n",
              "      quickchartButtonEl.classList.remove('colab-df-spinner');\n",
              "      quickchartButtonEl.classList.add('colab-df-quickchart-complete');\n",
              "    }\n",
              "    (() => {\n",
              "      let quickchartButtonEl =\n",
              "        document.querySelector('#df-fc34344c-4ba7-4608-8534-b58e7fdd2a5f button');\n",
              "      quickchartButtonEl.style.display =\n",
              "        google.colab.kernel.accessAllowed ? 'block' : 'none';\n",
              "    })();\n",
              "  </script>\n",
              "</div>\n",
              "\n",
              "  <div id=\"id_b4686cf6-2c1e-4090-ad80-a27ee09d4f5d\">\n",
              "    <style>\n",
              "      .colab-df-generate {\n",
              "        background-color: #E8F0FE;\n",
              "        border: none;\n",
              "        border-radius: 50%;\n",
              "        cursor: pointer;\n",
              "        display: none;\n",
              "        fill: #1967D2;\n",
              "        height: 32px;\n",
              "        padding: 0 0 0 0;\n",
              "        width: 32px;\n",
              "      }\n",
              "\n",
              "      .colab-df-generate:hover {\n",
              "        background-color: #E2EBFA;\n",
              "        box-shadow: 0px 1px 2px rgba(60, 64, 67, 0.3), 0px 1px 3px 1px rgba(60, 64, 67, 0.15);\n",
              "        fill: #174EA6;\n",
              "      }\n",
              "\n",
              "      [theme=dark] .colab-df-generate {\n",
              "        background-color: #3B4455;\n",
              "        fill: #D2E3FC;\n",
              "      }\n",
              "\n",
              "      [theme=dark] .colab-df-generate:hover {\n",
              "        background-color: #434B5C;\n",
              "        box-shadow: 0px 1px 3px 1px rgba(0, 0, 0, 0.15);\n",
              "        filter: drop-shadow(0px 1px 2px rgba(0, 0, 0, 0.3));\n",
              "        fill: #FFFFFF;\n",
              "      }\n",
              "    </style>\n",
              "    <button class=\"colab-df-generate\" onclick=\"generateWithVariable('corr')\"\n",
              "            title=\"Generate code using this dataframe.\"\n",
              "            style=\"display:none;\">\n",
              "\n",
              "  <svg xmlns=\"http://www.w3.org/2000/svg\" height=\"24px\"viewBox=\"0 0 24 24\"\n",
              "       width=\"24px\">\n",
              "    <path d=\"M7,19H8.4L18.45,9,17,7.55,7,17.6ZM5,21V16.75L18.45,3.32a2,2,0,0,1,2.83,0l1.4,1.43a1.91,1.91,0,0,1,.58,1.4,1.91,1.91,0,0,1-.58,1.4L9.25,21ZM18.45,9,17,7.55Zm-12,3A5.31,5.31,0,0,0,4.9,8.1,5.31,5.31,0,0,0,1,6.5,5.31,5.31,0,0,0,4.9,4.9,5.31,5.31,0,0,0,6.5,1,5.31,5.31,0,0,0,8.1,4.9,5.31,5.31,0,0,0,12,6.5,5.46,5.46,0,0,0,6.5,12Z\"/>\n",
              "  </svg>\n",
              "    </button>\n",
              "    <script>\n",
              "      (() => {\n",
              "      const buttonEl =\n",
              "        document.querySelector('#id_b4686cf6-2c1e-4090-ad80-a27ee09d4f5d button.colab-df-generate');\n",
              "      buttonEl.style.display =\n",
              "        google.colab.kernel.accessAllowed ? 'block' : 'none';\n",
              "\n",
              "      buttonEl.onclick = () => {\n",
              "        google.colab.notebook.generateWithVariable('corr');\n",
              "      }\n",
              "      })();\n",
              "    </script>\n",
              "  </div>\n",
              "\n",
              "    </div>\n",
              "  </div>\n"
            ],
            "application/vnd.google.colaboratory.intrinsic+json": {
              "type": "dataframe",
              "variable_name": "corr",
              "summary": "{\n  \"name\": \"corr\",\n  \"rows\": 4,\n  \"fields\": [\n    {\n      \"column\": \"temp\",\n      \"properties\": {\n        \"dtype\": \"number\",\n        \"std\": 0.5156230413200714,\n        \"min\": -0.15794412041209957,\n        \"max\": 1.0,\n        \"num_unique_values\": 4,\n        \"samples\": [\n          0.12696293902718886,\n          0.6274940090334914,\n          1.0\n        ],\n        \"semantic_type\": \"\",\n        \"description\": \"\"\n      }\n    },\n    {\n      \"column\": \"hum\",\n      \"properties\": {\n        \"dtype\": \"number\",\n        \"std\": 0.5587931681741634,\n        \"min\": -0.24848909864371393,\n        \"max\": 1.0,\n        \"num_unique_values\": 4,\n        \"samples\": [\n          1.0,\n          -0.1006585621371548,\n          0.12696293902718886\n        ],\n        \"semantic_type\": \"\",\n        \"description\": \"\"\n      }\n    },\n    {\n      \"column\": \"windspeed\",\n      \"properties\": {\n        \"dtype\": \"number\",\n        \"std\": 0.6081338594071009,\n        \"min\": -0.24848909864371393,\n        \"max\": 1.0,\n        \"num_unique_values\": 4,\n        \"samples\": [\n          -0.24848909864371393,\n          -0.23454499742167056,\n          -0.15794412041209957\n        ],\n        \"semantic_type\": \"\",\n        \"description\": \"\"\n      }\n    },\n    {\n      \"column\": \"cnt\",\n      \"properties\": {\n        \"dtype\": \"number\",\n        \"std\": 0.5891769914802387,\n        \"min\": -0.23454499742167056,\n        \"max\": 1.0,\n        \"num_unique_values\": 4,\n        \"samples\": [\n          -0.1006585621371548,\n          1.0,\n          0.6274940090334914\n        ],\n        \"semantic_type\": \"\",\n        \"description\": \"\"\n      }\n    }\n  ]\n}"
            }
          },
          "metadata": {}
        }
      ]
    },
    {
      "cell_type": "markdown",
      "source": [
        "**Insight:**\n",
        "- Pada tahap ini melakukan perhitungan nilai matriks korelasi untuk kolom 'temp', 'hum', 'windspeed', dan 'cnt' pada day_df_clean"
      ],
      "metadata": {
        "id": "mir0b9zZlBIj"
      }
    },
    {
      "cell_type": "code",
      "source": [
        "# Menambahkan kolom nama musim\n",
        "season_mapping = {1: 'Musim Semi', 2: 'Musim Panas', 3: 'Musim Gugur', 4: 'Musim Dingin'}\n",
        "day_df_clean['season_name'] = day_df_clean['season'].map(season_mapping)\n",
        "\n",
        "# Menambahkan kolom nama hari\n",
        "weekday_mapping = {0: 'Minggu', 1: 'Senin', 2: 'Selasa', 3: 'Rabu', 4: 'Kamis', 5: 'Jumat', 6: 'Sabtu'}\n",
        "day_df_clean['weekday_name'] = day_df_clean['weekday'].map(weekday_mapping)"
      ],
      "metadata": {
        "id": "P54RmUMHAVfc"
      },
      "execution_count": 42,
      "outputs": []
    },
    {
      "cell_type": "markdown",
      "source": [
        "**Insight:**\n",
        "- Pada tahap ini melakukan penggantian nama musim dan nama hari pada pada day_df_clean"
      ],
      "metadata": {
        "id": "0pBx73OWnXuu"
      }
    },
    {
      "cell_type": "code",
      "source": [
        "# Menghitung rata-rata penyewaan per hari\n",
        "weekday_counts = day_df_clean.groupby('weekday_name')['cnt'].mean().reset_index()\n",
        "\n",
        "# Mengurutkan hari sesuai urutan minggu\n",
        "order = ['Senin', 'Selasa', 'Rabu', 'Kamis', 'Jumat', 'Sabtu', 'Minggu']\n",
        "weekday_counts['weekday_name'] = pd.Categorical(weekday_counts['weekday_name'], categories=order, ordered=True)\n",
        "weekday_counts = weekday_counts.sort_values('weekday_name')"
      ],
      "metadata": {
        "id": "iY6dWnYWpaRy"
      },
      "execution_count": 43,
      "outputs": []
    },
    {
      "cell_type": "markdown",
      "source": [
        "**Insight:**\n",
        "- Pada tahap ini melakukan perhitungan rata - rata penyewaan harian untuk selanjutnya diurutkan sesuai urutan hari"
      ],
      "metadata": {
        "id": "y2TPq5Ydpu5D"
      }
    },
    {
      "cell_type": "markdown",
      "metadata": {
        "id": "zsyZjqak8DC2"
      },
      "source": [
        "## Visualization & Explanatory Analysis"
      ]
    },
    {
      "cell_type": "markdown",
      "metadata": {
        "id": "HZxOiQ6n8DC2"
      },
      "source": [
        "### Pertanyaan 1: Bagaimana kondisi cuaca semisal suhu, kelembapan dan kecepatan angin dapat memengaruhi penyewaan sepeda?"
      ]
    },
    {
      "cell_type": "code",
      "source": [
        "# Visualisasi matriks korelasi\n",
        "plt.figure(figsize=(8,6))\n",
        "sns.heatmap(corr, annot=True, cmap='coolwarm')\n",
        "plt.title('Matriks Korelasi')\n",
        "plt.show()"
      ],
      "metadata": {
        "colab": {
          "base_uri": "https://localhost:8080/",
          "height": 545
        },
        "id": "av74-2oR9S0h",
        "outputId": "5d9c4811-08b1-4be1-cd24-40c3504ade88"
      },
      "execution_count": 44,
      "outputs": [
        {
          "output_type": "display_data",
          "data": {
            "text/plain": [
              "<Figure size 800x600 with 2 Axes>"
            ],
            "image/png": "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\n"
          },
          "metadata": {}
        }
      ]
    },
    {
      "cell_type": "markdown",
      "source": [
        "**Insight:**\n",
        "- Pada tahap ini memvisualisasikan matrik korelasi yang telah dilakukan perhitungan sebelumnya"
      ],
      "metadata": {
        "id": "aUgycD7flzoC"
      }
    },
    {
      "cell_type": "markdown",
      "metadata": {
        "id": "DgHI7CiU8DC2"
      },
      "source": [
        "### Pertanyaan 2: Bagaimana tren penyewaan sepeda di berbagai musim?"
      ]
    },
    {
      "cell_type": "code",
      "execution_count": 45,
      "metadata": {
        "id": "Go0lCsvO8DC2",
        "colab": {
          "base_uri": "https://localhost:8080/",
          "height": 651
        },
        "outputId": "1054f912-ea53-4e25-b3d0-37d9f565eb03"
      },
      "outputs": [
        {
          "output_type": "stream",
          "name": "stderr",
          "text": [
            "<ipython-input-45-004e45a56841>:6: FutureWarning: \n",
            "\n",
            "Passing `palette` without assigning `hue` is deprecated and will be removed in v0.14.0. Assign the `x` variable to `hue` and set `legend=False` for the same effect.\n",
            "\n",
            "  sns.barplot(data=season_counts, x='season_name', y='cnt', palette='viridis')\n"
          ]
        },
        {
          "output_type": "display_data",
          "data": {
            "text/plain": [
              "<Figure size 800x600 with 1 Axes>"
            ],
            "image/png": "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\n"
          },
          "metadata": {}
        }
      ],
      "source": [
        "# Menghitung rata-rata penyewaan per musim\n",
        "season_counts = day_df_clean.groupby('season_name')['cnt'].mean().reset_index()\n",
        "\n",
        "# Membuat bar plot\n",
        "plt.figure(figsize=(8,6))\n",
        "sns.barplot(data=season_counts, x='season_name', y='cnt', palette='viridis')\n",
        "plt.title('Rata-rata Penyewaan Sepeda per Musim')\n",
        "plt.xlabel('Musim')\n",
        "plt.ylabel('Jumlah Penyewaan Rata-rata')\n",
        "plt.show()"
      ]
    },
    {
      "cell_type": "markdown",
      "source": [
        "**Insight:**\n",
        "- Pada tahap ini memvisualisasikan tren penyewaan sepeda berdasarkan musim"
      ],
      "metadata": {
        "id": "_0-36BDLklRg"
      }
    },
    {
      "cell_type": "markdown",
      "source": [
        "### Pertanyaan 3: Bagaimana intensitas penyewaan sepeda dari Hari Senin hingga Hari Minggu?"
      ],
      "metadata": {
        "id": "si_lZ_9IpNPc"
      }
    },
    {
      "cell_type": "code",
      "source": [
        "# Membuat line plot\n",
        "plt.figure(figsize=(10,6))\n",
        "sns.lineplot(data=weekday_counts, x='weekday_name', y='cnt', marker='o')\n",
        "plt.title('Rata-rata Penyewaan Sepeda per Hari')\n",
        "plt.xlabel('Hari')\n",
        "plt.ylabel('Jumlah Penyewaan Rata-rata')\n",
        "plt.show()"
      ],
      "metadata": {
        "colab": {
          "base_uri": "https://localhost:8080/",
          "height": 564
        },
        "id": "_ZtXawOKokEh",
        "outputId": "01900744-f13e-4405-f0c9-eea44e48142a"
      },
      "execution_count": 46,
      "outputs": [
        {
          "output_type": "display_data",
          "data": {
            "text/plain": [
              "<Figure size 1000x600 with 1 Axes>"
            ],
            "image/png": "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\n"
          },
          "metadata": {}
        }
      ]
    },
    {
      "cell_type": "markdown",
      "source": [
        "**Insight:**\n",
        "- Pada tahap ini memvisualisasikan grafik intensitas penyewaan sepeda dari Hari Senin sampai Hari Minggu"
      ],
      "metadata": {
        "id": "eoQDzEjnomDL"
      }
    },
    {
      "cell_type": "markdown",
      "source": [
        "## Analisis Lanjutan (Opsional)"
      ],
      "metadata": {
        "id": "9y4VUsmcYNZ5"
      }
    },
    {
      "cell_type": "markdown",
      "source": [
        "Tidak Ada Analisis Lanjutan"
      ],
      "metadata": {
        "id": "LHPgad4IhNVP"
      }
    },
    {
      "cell_type": "markdown",
      "metadata": {
        "id": "_WeHlCeX8DC2"
      },
      "source": [
        "## Conclusion"
      ]
    },
    {
      "cell_type": "markdown",
      "metadata": {
        "id": "ZTcyR48Y8DC2"
      },
      "source": [
        "- Conclution pertanyaan 1:\n",
        "\n",
        "\n",
        "1.   Suhu memiliki hubungan positif dengan jumlah penyewaan yang menandakan ketika suhu meningkat, jumlah penyewaan sepeda juga cenderung meningkat.\n",
        "2.   Kelembapan memiliki hubungan negatif dengan penyewaan sepeda yang menandakan ketika kelembapan meningkat, jumlah penyewaan cenderung sedikit menurun.\n",
        "3.   Kecepatan angin memiliki hubungan negatif dengan penyewaan sepeda yang menandakan ketika kecepatan angin meningkat, penyewaan sepeda cenderung lebih menurun.\n",
        "\n",
        "\n",
        "- Conclution pertanyaan 2:\n",
        "\n",
        "\n",
        "1.   Musim gugur menunjukkan rata-rata penyewaan sepeda tertinggi dibandingkan dengan musim lainnya.\n",
        "2.   Musim panas dan musim dingin memiliki rata-rata penyewaan yang cukup baik, meskipun musim panas lebih tinggi dibanding musim dingin.\n",
        "3.   Musim semi menunjukkan rata-rata penyewaan terendah dibandingkan musim lainnya.\n",
        "\n",
        "\n",
        "- Conclution pertanyaan 3:\n",
        "\n",
        "\n",
        "1.  Grafik tersebut menunjukan intensitas menunjukkan bahwa penyewaan sepeda lebih tinggi selama hari kerja, dengan puncaknya pada Hari Kamis dan Hari Jumat, sedangkan akhir pekan yaitu Hari Sabtu dan khususnya Hari Minggu mengalami penurunan drastis.\n",
        "\n"
      ]
    }
  ],
  "metadata": {
    "kernelspec": {
      "display_name": "Python 3",
      "language": "python",
      "name": "python3"
    },
    "language_info": {
      "name": "python",
      "version": "3.8.0 (tags/v3.8.0:fa919fd, Oct 14 2019, 19:21:23) [MSC v.1916 32 bit (Intel)]"
    },
    "orig_nbformat": 4,
    "vscode": {
      "interpreter": {
        "hash": "972b3bf27e332e87b5379f2791f6ef9dfc79c71018c370b0d7423235e20fe4d7"
      }
    },
    "colab": {
      "provenance": []
    }
  },
  "nbformat": 4,
  "nbformat_minor": 0
}
